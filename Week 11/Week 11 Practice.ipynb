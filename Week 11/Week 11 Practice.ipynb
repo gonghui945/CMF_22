{
 "cells": [
  {
   "cell_type": "markdown",
   "metadata": {},
   "source": [
    "# Week 10 Practice"
   ]
  },
  {
   "cell_type": "code",
   "execution_count": 1,
   "metadata": {},
   "outputs": [],
   "source": [
    "import numpy as np\n",
    "import pandas as pd\n",
    "import matplotlib.pyplot as plt\n",
    "import scipy.stats as si\n",
    "import yfinance as yf\n",
    "import os"
   ]
  },
  {
   "cell_type": "markdown",
   "metadata": {},
   "source": [
    "## Historical Volatility"
   ]
  },
  {
   "cell_type": "markdown",
   "metadata": {},
   "source": [
    "The histotical volatility of Tesla, Inc."
   ]
  },
  {
   "cell_type": "code",
   "execution_count": 2,
   "metadata": {},
   "outputs": [
    {
     "name": "stdout",
     "output_type": "stream",
     "text": [
      "[*********************100%***********************]  1 of 1 completed\n"
     ]
    }
   ],
   "source": [
    "TSLA = yf.download(\"TSLA\", start=\"2021-03-28\", end=\"2022-03-28\")"
   ]
  },
  {
   "cell_type": "code",
   "execution_count": 3,
   "metadata": {},
   "outputs": [
    {
     "name": "stdout",
     "output_type": "stream",
     "text": [
      "The spot price is $ 1010.64 .\n"
     ]
    }
   ],
   "source": [
    "S = TSLA['Adj Close'][-1]\n",
    "print('The spot price is $', round(S,2), '.')"
   ]
  },
  {
   "cell_type": "code",
   "execution_count": 4,
   "metadata": {},
   "outputs": [
    {
     "name": "stdout",
     "output_type": "stream",
     "text": [
      "The annualised volatility is 53.48 %\n"
     ]
    }
   ],
   "source": [
    "log_return = np.log(TSLA['Adj Close'] / TSLA['Adj Close'].shift(1))\n",
    "vol_h = np.sqrt(252) * log_return.std()\n",
    "print('The annualised volatility is', round(vol_h*100,2), '%')"
   ]
  },
  {
   "cell_type": "markdown",
   "metadata": {},
   "source": [
    "## Market Volatility"
   ]
  },
  {
   "cell_type": "markdown",
   "metadata": {},
   "source": [
    "The market volatility, VIX,  is the ticker symbol and the popular name for the Chicago Board Options Exchange's CBOE Volatility Index, a popular measure of the stock market's expectation of volatility based on S&P 500 index options."
   ]
  },
  {
   "cell_type": "code",
   "execution_count": 5,
   "metadata": {},
   "outputs": [
    {
     "name": "stdout",
     "output_type": "stream",
     "text": [
      "[*********************100%***********************]  1 of 1 completed\n"
     ]
    }
   ],
   "source": [
    "VIX = yf.download(\"^VIX\", start=\"2021-03-28\", end=\"2022-03-28\")"
   ]
  },
  {
   "cell_type": "code",
   "execution_count": 6,
   "metadata": {},
   "outputs": [
    {
     "data": {
      "text/html": [
       "<div>\n",
       "<style scoped>\n",
       "    .dataframe tbody tr th:only-of-type {\n",
       "        vertical-align: middle;\n",
       "    }\n",
       "\n",
       "    .dataframe tbody tr th {\n",
       "        vertical-align: top;\n",
       "    }\n",
       "\n",
       "    .dataframe thead th {\n",
       "        text-align: right;\n",
       "    }\n",
       "</style>\n",
       "<table border=\"1\" class=\"dataframe\">\n",
       "  <thead>\n",
       "    <tr style=\"text-align: right;\">\n",
       "      <th></th>\n",
       "      <th>Open</th>\n",
       "      <th>High</th>\n",
       "      <th>Low</th>\n",
       "      <th>Close</th>\n",
       "      <th>Adj Close</th>\n",
       "      <th>Volume</th>\n",
       "    </tr>\n",
       "    <tr>\n",
       "      <th>Date</th>\n",
       "      <th></th>\n",
       "      <th></th>\n",
       "      <th></th>\n",
       "      <th></th>\n",
       "      <th></th>\n",
       "      <th></th>\n",
       "    </tr>\n",
       "  </thead>\n",
       "  <tbody>\n",
       "    <tr>\n",
       "      <th>2021-03-29</th>\n",
       "      <td>20.400000</td>\n",
       "      <td>21.600000</td>\n",
       "      <td>19.420000</td>\n",
       "      <td>20.740000</td>\n",
       "      <td>20.740000</td>\n",
       "      <td>0</td>\n",
       "    </tr>\n",
       "    <tr>\n",
       "      <th>2021-03-30</th>\n",
       "      <td>20.760000</td>\n",
       "      <td>21.750000</td>\n",
       "      <td>19.469999</td>\n",
       "      <td>19.610001</td>\n",
       "      <td>19.610001</td>\n",
       "      <td>0</td>\n",
       "    </tr>\n",
       "    <tr>\n",
       "      <th>2021-03-31</th>\n",
       "      <td>19.799999</td>\n",
       "      <td>20.110001</td>\n",
       "      <td>18.850000</td>\n",
       "      <td>19.400000</td>\n",
       "      <td>19.400000</td>\n",
       "      <td>0</td>\n",
       "    </tr>\n",
       "    <tr>\n",
       "      <th>2021-04-01</th>\n",
       "      <td>18.600000</td>\n",
       "      <td>18.639999</td>\n",
       "      <td>17.290001</td>\n",
       "      <td>17.330000</td>\n",
       "      <td>17.330000</td>\n",
       "      <td>0</td>\n",
       "    </tr>\n",
       "    <tr>\n",
       "      <th>2021-04-05</th>\n",
       "      <td>18.160000</td>\n",
       "      <td>18.400000</td>\n",
       "      <td>17.350000</td>\n",
       "      <td>17.910000</td>\n",
       "      <td>17.910000</td>\n",
       "      <td>0</td>\n",
       "    </tr>\n",
       "    <tr>\n",
       "      <th>...</th>\n",
       "      <td>...</td>\n",
       "      <td>...</td>\n",
       "      <td>...</td>\n",
       "      <td>...</td>\n",
       "      <td>...</td>\n",
       "      <td>...</td>\n",
       "    </tr>\n",
       "    <tr>\n",
       "      <th>2022-03-21</th>\n",
       "      <td>25.139999</td>\n",
       "      <td>25.360001</td>\n",
       "      <td>22.990000</td>\n",
       "      <td>23.530001</td>\n",
       "      <td>23.530001</td>\n",
       "      <td>0</td>\n",
       "    </tr>\n",
       "    <tr>\n",
       "      <th>2022-03-22</th>\n",
       "      <td>24.020000</td>\n",
       "      <td>24.020000</td>\n",
       "      <td>22.700001</td>\n",
       "      <td>22.940001</td>\n",
       "      <td>22.940001</td>\n",
       "      <td>0</td>\n",
       "    </tr>\n",
       "    <tr>\n",
       "      <th>2022-03-23</th>\n",
       "      <td>23.040001</td>\n",
       "      <td>24.030001</td>\n",
       "      <td>22.639999</td>\n",
       "      <td>23.570000</td>\n",
       "      <td>23.570000</td>\n",
       "      <td>0</td>\n",
       "    </tr>\n",
       "    <tr>\n",
       "      <th>2022-03-24</th>\n",
       "      <td>23.610001</td>\n",
       "      <td>23.790001</td>\n",
       "      <td>21.490000</td>\n",
       "      <td>21.670000</td>\n",
       "      <td>21.670000</td>\n",
       "      <td>0</td>\n",
       "    </tr>\n",
       "    <tr>\n",
       "      <th>2022-03-25</th>\n",
       "      <td>21.870001</td>\n",
       "      <td>22.860001</td>\n",
       "      <td>20.799999</td>\n",
       "      <td>20.809999</td>\n",
       "      <td>20.809999</td>\n",
       "      <td>0</td>\n",
       "    </tr>\n",
       "  </tbody>\n",
       "</table>\n",
       "<p>252 rows × 6 columns</p>\n",
       "</div>"
      ],
      "text/plain": [
       "                 Open       High        Low      Close  Adj Close  Volume\n",
       "Date                                                                     \n",
       "2021-03-29  20.400000  21.600000  19.420000  20.740000  20.740000       0\n",
       "2021-03-30  20.760000  21.750000  19.469999  19.610001  19.610001       0\n",
       "2021-03-31  19.799999  20.110001  18.850000  19.400000  19.400000       0\n",
       "2021-04-01  18.600000  18.639999  17.290001  17.330000  17.330000       0\n",
       "2021-04-05  18.160000  18.400000  17.350000  17.910000  17.910000       0\n",
       "...               ...        ...        ...        ...        ...     ...\n",
       "2022-03-21  25.139999  25.360001  22.990000  23.530001  23.530001       0\n",
       "2022-03-22  24.020000  24.020000  22.700001  22.940001  22.940001       0\n",
       "2022-03-23  23.040001  24.030001  22.639999  23.570000  23.570000       0\n",
       "2022-03-24  23.610001  23.790001  21.490000  21.670000  21.670000       0\n",
       "2022-03-25  21.870001  22.860001  20.799999  20.809999  20.809999       0\n",
       "\n",
       "[252 rows x 6 columns]"
      ]
     },
     "execution_count": 6,
     "metadata": {},
     "output_type": "execute_result"
    }
   ],
   "source": [
    "VIX"
   ]
  },
  {
   "cell_type": "code",
   "execution_count": 7,
   "metadata": {},
   "outputs": [
    {
     "name": "stdout",
     "output_type": "stream",
     "text": [
      "The market volatility is 20.81 % .\n"
     ]
    }
   ],
   "source": [
    "print('The market volatility is', round(VIX['Adj Close'][-1],2) , '% .') "
   ]
  },
  {
   "cell_type": "markdown",
   "metadata": {},
   "source": [
    "## Volatility Smile"
   ]
  },
  {
   "cell_type": "markdown",
   "metadata": {},
   "source": [
    "Volatility smiles are implied volatility patterns that arise in pricing financial options. It corresponds to finding one single parameter (implied volatility) that is needed to be modified for the Black–Scholes formula to fit market prices. "
   ]
  },
  {
   "cell_type": "code",
   "execution_count": 8,
   "metadata": {},
   "outputs": [],
   "source": [
    "def newton_vol_call(S, K, T, C, r):\n",
    "    \n",
    "    #S: spot price\n",
    "    #K: strike price\n",
    "    #T: time to maturity\n",
    "    #C: Call value\n",
    "    #r: risk free rate\n",
    "    #sigma: volatility of underlying asset\n",
    "   \n",
    "    MAX_ITERATIONS = 1000\n",
    "    tolerance = 0.000001\n",
    "    \n",
    "    sigma = 0.25\n",
    "    \n",
    "    for i in range(0, MAX_ITERATIONS):\n",
    "        d1 = (np.log(S / K) + (r + 0.5 * sigma ** 2) * T) / (sigma * np.sqrt(T))\n",
    "        d2 = (np.log(S / K) + (r - 0.5 * sigma ** 2) * T) / (sigma * np.sqrt(T))\n",
    "        price = S * si.norm.cdf(d1, 0.0, 1.0) - K * np.exp(-r * T) * si.norm.cdf(d2, 0.0, 1.0)\n",
    "        vega = S * np.sqrt(T) * si.norm.pdf(d1, 0.0, 1.0)\n",
    "\n",
    "        diff = C - price\n",
    "\n",
    "        if (abs(diff) < tolerance):\n",
    "            return sigma\n",
    "        else: \n",
    "            sigma = sigma + diff/vega\n",
    "        \n",
    "        # print(i,sigma,diff)\n",
    "        \n",
    "    return sigma"
   ]
  },
  {
   "cell_type": "markdown",
   "metadata": {},
   "source": [
    "Download the Tesla option data."
   ]
  },
  {
   "cell_type": "code",
   "execution_count": 9,
   "metadata": {},
   "outputs": [
    {
     "data": {
      "text/html": [
       "<div>\n",
       "<style scoped>\n",
       "    .dataframe tbody tr th:only-of-type {\n",
       "        vertical-align: middle;\n",
       "    }\n",
       "\n",
       "    .dataframe tbody tr th {\n",
       "        vertical-align: top;\n",
       "    }\n",
       "\n",
       "    .dataframe thead th {\n",
       "        text-align: right;\n",
       "    }\n",
       "</style>\n",
       "<table border=\"1\" class=\"dataframe\">\n",
       "  <thead>\n",
       "    <tr style=\"text-align: right;\">\n",
       "      <th></th>\n",
       "      <th>contractSymbol</th>\n",
       "      <th>lastTradeDate</th>\n",
       "      <th>strike</th>\n",
       "      <th>lastPrice</th>\n",
       "      <th>bid</th>\n",
       "      <th>ask</th>\n",
       "      <th>change</th>\n",
       "      <th>percentChange</th>\n",
       "      <th>volume</th>\n",
       "      <th>openInterest</th>\n",
       "      <th>impliedVolatility</th>\n",
       "      <th>inTheMoney</th>\n",
       "      <th>contractSize</th>\n",
       "      <th>currency</th>\n",
       "    </tr>\n",
       "  </thead>\n",
       "  <tbody>\n",
       "    <tr>\n",
       "      <th>0</th>\n",
       "      <td>TSLA220429C00400000</td>\n",
       "      <td>2022-03-15 19:58:05+00:00</td>\n",
       "      <td>400.0</td>\n",
       "      <td>404.00</td>\n",
       "      <td>659.60</td>\n",
       "      <td>671.30</td>\n",
       "      <td>0.000000</td>\n",
       "      <td>0.000000</td>\n",
       "      <td>NaN</td>\n",
       "      <td>1</td>\n",
       "      <td>0.000010</td>\n",
       "      <td>True</td>\n",
       "      <td>REGULAR</td>\n",
       "      <td>USD</td>\n",
       "    </tr>\n",
       "    <tr>\n",
       "      <th>1</th>\n",
       "      <td>TSLA220429C00500000</td>\n",
       "      <td>2022-03-24 14:16:10+00:00</td>\n",
       "      <td>500.0</td>\n",
       "      <td>500.23</td>\n",
       "      <td>560.40</td>\n",
       "      <td>571.65</td>\n",
       "      <td>0.000000</td>\n",
       "      <td>0.000000</td>\n",
       "      <td>NaN</td>\n",
       "      <td>8</td>\n",
       "      <td>0.000010</td>\n",
       "      <td>True</td>\n",
       "      <td>REGULAR</td>\n",
       "      <td>USD</td>\n",
       "    </tr>\n",
       "    <tr>\n",
       "      <th>2</th>\n",
       "      <td>TSLA220429C00600000</td>\n",
       "      <td>2022-03-24 17:37:40+00:00</td>\n",
       "      <td>600.0</td>\n",
       "      <td>409.95</td>\n",
       "      <td>463.30</td>\n",
       "      <td>475.60</td>\n",
       "      <td>0.000000</td>\n",
       "      <td>0.000000</td>\n",
       "      <td>1.0</td>\n",
       "      <td>1</td>\n",
       "      <td>0.820070</td>\n",
       "      <td>True</td>\n",
       "      <td>REGULAR</td>\n",
       "      <td>USD</td>\n",
       "    </tr>\n",
       "    <tr>\n",
       "      <th>3</th>\n",
       "      <td>TSLA220429C00650000</td>\n",
       "      <td>2022-03-24 17:12:39+00:00</td>\n",
       "      <td>650.0</td>\n",
       "      <td>360.66</td>\n",
       "      <td>411.00</td>\n",
       "      <td>422.95</td>\n",
       "      <td>0.000000</td>\n",
       "      <td>0.000000</td>\n",
       "      <td>2.0</td>\n",
       "      <td>100</td>\n",
       "      <td>0.000010</td>\n",
       "      <td>True</td>\n",
       "      <td>REGULAR</td>\n",
       "      <td>USD</td>\n",
       "    </tr>\n",
       "    <tr>\n",
       "      <th>4</th>\n",
       "      <td>TSLA220429C00700000</td>\n",
       "      <td>2022-03-28 14:07:43+00:00</td>\n",
       "      <td>700.0</td>\n",
       "      <td>368.00</td>\n",
       "      <td>363.00</td>\n",
       "      <td>374.60</td>\n",
       "      <td>49.660004</td>\n",
       "      <td>15.599675</td>\n",
       "      <td>2.0</td>\n",
       "      <td>107</td>\n",
       "      <td>0.000010</td>\n",
       "      <td>True</td>\n",
       "      <td>REGULAR</td>\n",
       "      <td>USD</td>\n",
       "    </tr>\n",
       "    <tr>\n",
       "      <th>...</th>\n",
       "      <td>...</td>\n",
       "      <td>...</td>\n",
       "      <td>...</td>\n",
       "      <td>...</td>\n",
       "      <td>...</td>\n",
       "      <td>...</td>\n",
       "      <td>...</td>\n",
       "      <td>...</td>\n",
       "      <td>...</td>\n",
       "      <td>...</td>\n",
       "      <td>...</td>\n",
       "      <td>...</td>\n",
       "      <td>...</td>\n",
       "      <td>...</td>\n",
       "    </tr>\n",
       "    <tr>\n",
       "      <th>123</th>\n",
       "      <td>TSLA220429C01950000</td>\n",
       "      <td>2022-03-25 14:57:36+00:00</td>\n",
       "      <td>1950.0</td>\n",
       "      <td>0.61</td>\n",
       "      <td>0.02</td>\n",
       "      <td>4.75</td>\n",
       "      <td>0.000000</td>\n",
       "      <td>0.000000</td>\n",
       "      <td>10.0</td>\n",
       "      <td>1</td>\n",
       "      <td>0.929444</td>\n",
       "      <td>False</td>\n",
       "      <td>REGULAR</td>\n",
       "      <td>USD</td>\n",
       "    </tr>\n",
       "    <tr>\n",
       "      <th>124</th>\n",
       "      <td>TSLA220429C01975000</td>\n",
       "      <td>2022-03-25 17:57:30+00:00</td>\n",
       "      <td>1975.0</td>\n",
       "      <td>1.85</td>\n",
       "      <td>0.01</td>\n",
       "      <td>4.70</td>\n",
       "      <td>0.000000</td>\n",
       "      <td>0.000000</td>\n",
       "      <td>2.0</td>\n",
       "      <td>2</td>\n",
       "      <td>0.943970</td>\n",
       "      <td>False</td>\n",
       "      <td>REGULAR</td>\n",
       "      <td>USD</td>\n",
       "    </tr>\n",
       "    <tr>\n",
       "      <th>125</th>\n",
       "      <td>TSLA220429C02000000</td>\n",
       "      <td>2022-03-28 14:03:10+00:00</td>\n",
       "      <td>2000.0</td>\n",
       "      <td>0.58</td>\n",
       "      <td>0.02</td>\n",
       "      <td>1.52</td>\n",
       "      <td>0.140000</td>\n",
       "      <td>31.818178</td>\n",
       "      <td>2.0</td>\n",
       "      <td>16</td>\n",
       "      <td>0.831545</td>\n",
       "      <td>False</td>\n",
       "      <td>REGULAR</td>\n",
       "      <td>USD</td>\n",
       "    </tr>\n",
       "    <tr>\n",
       "      <th>126</th>\n",
       "      <td>TSLA220429C02025000</td>\n",
       "      <td>2022-03-28 14:01:26+00:00</td>\n",
       "      <td>2025.0</td>\n",
       "      <td>0.82</td>\n",
       "      <td>0.02</td>\n",
       "      <td>1.53</td>\n",
       "      <td>0.400000</td>\n",
       "      <td>95.238100</td>\n",
       "      <td>2.0</td>\n",
       "      <td>16</td>\n",
       "      <td>0.846437</td>\n",
       "      <td>False</td>\n",
       "      <td>REGULAR</td>\n",
       "      <td>USD</td>\n",
       "    </tr>\n",
       "    <tr>\n",
       "      <th>127</th>\n",
       "      <td>TSLA220429C02050000</td>\n",
       "      <td>2022-03-28 13:59:55+00:00</td>\n",
       "      <td>2050.0</td>\n",
       "      <td>1.00</td>\n",
       "      <td>0.01</td>\n",
       "      <td>2.00</td>\n",
       "      <td>0.520000</td>\n",
       "      <td>108.333330</td>\n",
       "      <td>7.0</td>\n",
       "      <td>25</td>\n",
       "      <td>0.886964</td>\n",
       "      <td>False</td>\n",
       "      <td>REGULAR</td>\n",
       "      <td>USD</td>\n",
       "    </tr>\n",
       "  </tbody>\n",
       "</table>\n",
       "<p>128 rows × 14 columns</p>\n",
       "</div>"
      ],
      "text/plain": [
       "          contractSymbol             lastTradeDate  strike  lastPrice     bid  \\\n",
       "0    TSLA220429C00400000 2022-03-15 19:58:05+00:00   400.0     404.00  659.60   \n",
       "1    TSLA220429C00500000 2022-03-24 14:16:10+00:00   500.0     500.23  560.40   \n",
       "2    TSLA220429C00600000 2022-03-24 17:37:40+00:00   600.0     409.95  463.30   \n",
       "3    TSLA220429C00650000 2022-03-24 17:12:39+00:00   650.0     360.66  411.00   \n",
       "4    TSLA220429C00700000 2022-03-28 14:07:43+00:00   700.0     368.00  363.00   \n",
       "..                   ...                       ...     ...        ...     ...   \n",
       "123  TSLA220429C01950000 2022-03-25 14:57:36+00:00  1950.0       0.61    0.02   \n",
       "124  TSLA220429C01975000 2022-03-25 17:57:30+00:00  1975.0       1.85    0.01   \n",
       "125  TSLA220429C02000000 2022-03-28 14:03:10+00:00  2000.0       0.58    0.02   \n",
       "126  TSLA220429C02025000 2022-03-28 14:01:26+00:00  2025.0       0.82    0.02   \n",
       "127  TSLA220429C02050000 2022-03-28 13:59:55+00:00  2050.0       1.00    0.01   \n",
       "\n",
       "        ask     change  percentChange  volume  openInterest  \\\n",
       "0    671.30   0.000000       0.000000     NaN             1   \n",
       "1    571.65   0.000000       0.000000     NaN             8   \n",
       "2    475.60   0.000000       0.000000     1.0             1   \n",
       "3    422.95   0.000000       0.000000     2.0           100   \n",
       "4    374.60  49.660004      15.599675     2.0           107   \n",
       "..      ...        ...            ...     ...           ...   \n",
       "123    4.75   0.000000       0.000000    10.0             1   \n",
       "124    4.70   0.000000       0.000000     2.0             2   \n",
       "125    1.52   0.140000      31.818178     2.0            16   \n",
       "126    1.53   0.400000      95.238100     2.0            16   \n",
       "127    2.00   0.520000     108.333330     7.0            25   \n",
       "\n",
       "     impliedVolatility  inTheMoney contractSize currency  \n",
       "0             0.000010        True      REGULAR      USD  \n",
       "1             0.000010        True      REGULAR      USD  \n",
       "2             0.820070        True      REGULAR      USD  \n",
       "3             0.000010        True      REGULAR      USD  \n",
       "4             0.000010        True      REGULAR      USD  \n",
       "..                 ...         ...          ...      ...  \n",
       "123           0.929444       False      REGULAR      USD  \n",
       "124           0.943970       False      REGULAR      USD  \n",
       "125           0.831545       False      REGULAR      USD  \n",
       "126           0.846437       False      REGULAR      USD  \n",
       "127           0.886964       False      REGULAR      USD  \n",
       "\n",
       "[128 rows x 14 columns]"
      ]
     },
     "execution_count": 9,
     "metadata": {},
     "output_type": "execute_result"
    }
   ],
   "source": [
    "TESLA = yf.Ticker(\"TSLA\")\n",
    "opt = TESLA.option_chain('2022-04-29')\n",
    "opt.calls"
   ]
  },
  {
   "cell_type": "code",
   "execution_count": 10,
   "metadata": {},
   "outputs": [
    {
     "name": "stdout",
     "output_type": "stream",
     "text": [
      "The implied volatility is 98.16 % for the one-month call with strike $ 1010.00\n"
     ]
    }
   ],
   "source": [
    "impvol = newton_vol_call(S, 1010.00, 4/52, float(opt.calls.lastPrice[opt.calls.strike == 1010.00]), 0.0158)\n",
    "print('The implied volatility is', round(impvol*100,2) , '% for the one-month call with strike $ 1010.00' ) "
   ]
  },
  {
   "cell_type": "code",
   "execution_count": 11,
   "metadata": {},
   "outputs": [],
   "source": [
    "import mibian"
   ]
  },
  {
   "cell_type": "code",
   "execution_count": 12,
   "metadata": {},
   "outputs": [
    {
     "name": "stdout",
     "output_type": "stream",
     "text": [
      "The implied volatility is 98.3 % for the one-month call with strike $ 1010.00\n"
     ]
    }
   ],
   "source": [
    "c = mibian.BS([S, 1010.00, 1.58, 28], callPrice = float(opt.calls.lastPrice[opt.calls.strike == 1010.00]))\n",
    "c.impliedVolatility\n",
    "print('The implied volatility is', round(c.impliedVolatility,2) , '% for the one-month call with strike $ 1010.00' ) "
   ]
  },
  {
   "cell_type": "code",
   "execution_count": 13,
   "metadata": {},
   "outputs": [],
   "source": [
    "impliedvol = np.zeros((len(opt.calls.strike),1))\n",
    "for i in range(len(opt.calls.strike)):\n",
    "    c = mibian.BS([S, opt.calls.strike[i], 1.58, 30], callPrice = opt.calls.lastPrice[i])\n",
    "    impliedvol [i] = c.impliedVolatility"
   ]
  },
  {
   "cell_type": "code",
   "execution_count": 14,
   "metadata": {},
   "outputs": [
    {
     "data": {
      "text/plain": [
       "Text(0.5, 1.0, 'Volatility Smile')"
      ]
     },
     "execution_count": 14,
     "metadata": {},
     "output_type": "execute_result"
    },
    {
     "data": {
      "image/png": "[encoded data removed]",
      "text/plain": [
       "<Figure size 432x288 with 1 Axes>"
      ]
     },
     "metadata": {
      "needs_background": "light"
     },
     "output_type": "display_data"
    }
   ],
   "source": [
    "fig = plt.figure()\n",
    "plt.plot(opt.calls.strike[20:60], impliedvol[20:60], '-')\n",
    "plt.xlabel('Strike Price')\n",
    "plt.ylabel('Implied Volatility (%)')\n",
    "plt.title('Volatility Smile')"
   ]
  },
  {
   "cell_type": "markdown",
   "metadata": {},
   "source": [
    "## Term structure of volatility"
   ]
  },
  {
   "cell_type": "markdown",
   "metadata": {},
   "source": [
    "Volatility term structures list the relationship between implied volatilities and time to expiration."
   ]
  },
  {
   "cell_type": "code",
   "execution_count": 15,
   "metadata": {},
   "outputs": [
    {
     "name": "stdout",
     "output_type": "stream",
     "text": [
      "Requirement already satisfied: arrow in c:\\users\\gongh\\anaconda3\\lib\\site-packages (0.13.1)\n",
      "Collecting arrow\n",
      "  Downloading arrow-1.2.2-py3-none-any.whl (64 kB)\n",
      "Requirement already satisfied: python-dateutil>=2.7.0 in c:\\users\\gongh\\anaconda3\\lib\\site-packages (from arrow) (2.8.2)\n",
      "Requirement already satisfied: six>=1.5 in c:\\users\\gongh\\anaconda3\\lib\\site-packages (from python-dateutil>=2.7.0->arrow) (1.16.0)\n",
      "Installing collected packages: arrow\n",
      "  Attempting uninstall: arrow\n",
      "    Found existing installation: arrow 0.13.1\n",
      "    Uninstalling arrow-0.13.1:\n",
      "      Successfully uninstalled arrow-0.13.1\n",
      "Successfully installed arrow-1.2.2\n",
      "Note: you may need to restart the kernel to use updated packages.\n"
     ]
    }
   ],
   "source": [
    "pip install -U arrow"
   ]
  },
  {
   "cell_type": "code",
   "execution_count": 16,
   "metadata": {},
   "outputs": [],
   "source": [
    "import arrow\n",
    "T = ['2022-04-01','2022-04-08','2022-04-14','2022-04-22','2022-04-29',\n",
    "     '2022-05-06','2022-05-20','2022-06-17','2022-07-15','2022-08-19',\n",
    "     '2022-09-16','2022-10-21','2022-11-18','2022-12-16','2023-01-20',\n",
    "     '2023-03-17','2023-06-16','2023-09-15','2024-01-19']"
   ]
  },
  {
   "cell_type": "code",
   "execution_count": 17,
   "metadata": {},
   "outputs": [],
   "source": [
    "impliedvol_t = np.zeros((len(T),1))\n",
    "now = arrow.get('2022-03-28')\n",
    "days = np.zeros((len(T),1))\n",
    "for j in range(len(T)):\n",
    "    opt = TESLA.option_chain(T[j])\n",
    "    temp = arrow.get(T[j])\n",
    "    delta = temp - now\n",
    "    days[j] = delta.days\n",
    "    c = mibian.BS([S, 1000, 1.58, days[j]], callPrice = float(opt.calls.lastPrice[opt.calls.strike==1000]))\n",
    "    impliedvol_t [j] = c.impliedVolatility"
   ]
  },
  {
   "cell_type": "code",
   "execution_count": 18,
   "metadata": {},
   "outputs": [
    {
     "data": {
      "text/plain": [
       "Text(0.5, 1.0, 'Term structure of volatility')"
      ]
     },
     "execution_count": 18,
     "metadata": {},
     "output_type": "execute_result"
    },
    {
     "data": {
      "image/png": "[encoded data removed]",
      "text/plain": [
       "<Figure size 432x288 with 1 Axes>"
      ]
     },
     "metadata": {
      "needs_background": "light"
     },
     "output_type": "display_data"
    }
   ],
   "source": [
    "fig = plt.figure()\n",
    "plt.plot(days, impliedvol_t, '--')\n",
    "plt.xlabel('Time to Expiry (Days)')\n",
    "plt.ylabel('Implied Volatility (%)')\n",
    "plt.title('Term structure of volatility')"
   ]
  },
  {
   "cell_type": "markdown",
   "metadata": {},
   "source": [
    "## Implied volatility surface"
   ]
  },
  {
   "cell_type": "markdown",
   "metadata": {},
   "source": [
    "It is often useful to plot implied volatility as a function of both strike price and time to maturity. The result is a two-dimensional curved surface plotted in three dimensions whereby the current market implied volatility (z-axis) for all options on the underlying is plotted against the price (y-axis) and time to maturity (x-axis \"DTM\"). "
   ]
  },
  {
   "cell_type": "code",
   "execution_count": 19,
   "metadata": {},
   "outputs": [],
   "source": [
    "K = np.linspace(1000.00,1200.00,5)"
   ]
  },
  {
   "cell_type": "code",
   "execution_count": 20,
   "metadata": {},
   "outputs": [],
   "source": [
    "impliedvol_s = np.zeros((len(K),len(days)))\n",
    "for j in range(len(days)):\n",
    "    for i in range(len(K)):\n",
    "        opt = TESLA.option_chain(T[j])\n",
    "        c = mibian.BS([S, K[i], 1.58, days[j]], callPrice = float(opt.calls.lastPrice[opt.calls.strike == K[i]]))\n",
    "        impliedvol_s [i,j] = c.impliedVolatility"
   ]
  },
  {
   "cell_type": "code",
   "execution_count": 21,
   "metadata": {},
   "outputs": [
    {
     "data": {
      "text/plain": [
       "array([[197.99804688, 139.40429688, 118.43109131, 102.29492188,\n",
       "        102.78320312,  92.25463867,  93.13964844,  86.15493774,\n",
       "         80.32226562,  77.81982422,  78.4072876 ,  72.43347168,\n",
       "         73.18878174,  71.96044922,  75.55580139,  74.85961914,\n",
       "         73.79150391,  72.39723206,  73.56262207],\n",
       "       [159.51538086, 122.31445312, 106.32324219,  96.28295898,\n",
       "         93.13964844,  88.80615234,  88.34838867,  82.4508667 ,\n",
       "         77.48413086,  77.57568359,  74.24163818,  73.60839844,\n",
       "         71.52175903,  73.63891602,  74.21875   ,  70.83129883,\n",
       "         70.63293457,  70.67871094,  71.51603699],\n",
       "       [135.65063477, 111.29760742,  98.75488281,  89.11132812,\n",
       "         89.99633789,  86.60888672,  85.15167236,  79.86450195,\n",
       "         77.02636719,  74.27978516,  74.50485229,  72.04055786,\n",
       "         73.85253906,  71.87652588,  73.04382324,  71.86126709,\n",
       "         71.44546509,  71.07543945,  72.1988678 ],\n",
       "       [126.22070312, 105.0567627 ,  93.0480957 ,  84.59472656,\n",
       "         87.03613281,  82.27539062,  81.66503906,  77.27050781,\n",
       "         75.07705688,  68.66455078,  71.5637207 ,  67.93212891,\n",
       "         72.72338867,  70.91522217,  71.0144043 ,  68.23730469,\n",
       "         69.78225708,  69.96154785,  70.25337219],\n",
       "       [123.71826172, 101.92871094,  90.45410156,  82.76367188,\n",
       "         84.36584473,  79.58984375,  80.44433594,  76.04980469,\n",
       "         73.36425781,  73.54736328,  72.14355469,  71.72393799,\n",
       "         68.38989258,  69.3321228 ,  71.04301453,  70.1751709 ,\n",
       "         70.0969696 ,  69.36836243,  71.20704651]])"
      ]
     },
     "execution_count": 21,
     "metadata": {},
     "output_type": "execute_result"
    }
   ],
   "source": [
    "impliedvol_s"
   ]
  },
  {
   "cell_type": "code",
   "execution_count": 22,
   "metadata": {},
   "outputs": [
    {
     "data": {
      "text/plain": [
       "Text(0.5, 1.0, 'Volatility Smile')"
      ]
     },
     "execution_count": 22,
     "metadata": {},
     "output_type": "execute_result"
    },
    {
     "data": {
      "image/png": "[encoded data removed]",
      "text/plain": [
       "<Figure size 432x288 with 1 Axes>"
      ]
     },
     "metadata": {
      "needs_background": "light"
     },
     "output_type": "display_data"
    }
   ],
   "source": [
    "fig = plt.figure()\n",
    "plt.plot(K, impliedvol_s[:,0], '-')\n",
    "plt.xlabel('Strike Price')\n",
    "plt.ylabel('Implied Volatility (%)')\n",
    "plt.title('Volatility Smile')"
   ]
  },
  {
   "cell_type": "code",
   "execution_count": 23,
   "metadata": {},
   "outputs": [
    {
     "data": {
      "text/plain": [
       "Text(0.5, 1.0, 'Term structure of volatility')"
      ]
     },
     "execution_count": 23,
     "metadata": {},
     "output_type": "execute_result"
    },
    {
     "data": {
      "image/png": "[encoded data removed]",
      "text/plain": [
       "<Figure size 432x288 with 1 Axes>"
      ]
     },
     "metadata": {
      "needs_background": "light"
     },
     "output_type": "display_data"
    }
   ],
   "source": [
    "fig = plt.figure()\n",
    "plt.plot(days, impliedvol_s[0,:], '--')\n",
    "plt.xlabel('Time to Expiry (Days)')\n",
    "plt.ylabel('Implied Volatility (%)')\n",
    "plt.title('Term structure of volatility')"
   ]
  },
  {
   "cell_type": "code",
   "execution_count": 24,
   "metadata": {},
   "outputs": [
    {
     "name": "stderr",
     "output_type": "stream",
     "text": [
      "C:\\Users\\GONGH\\AppData\\Local\\Temp/ipykernel_15380/2424279749.py:2: MatplotlibDeprecationWarning: Calling gca() with keyword arguments was deprecated in Matplotlib 3.4. Starting two minor releases later, gca() will take no keyword arguments. The gca() function should only be used to get the current axes, or if no axes exist, create new axes with default keyword arguments. To create a new axes with non-default arguments, use plt.axes() or plt.subplot().\n",
      "  ax = fig.gca(projection='3d')\n"
     ]
    },
    {
     "data": {
      "image/png": "[encoded data removed]",
      "text/plain": [
       "<Figure size 720x432 with 2 Axes>"
      ]
     },
     "metadata": {
      "needs_background": "light"
     },
     "output_type": "display_data"
    }
   ],
   "source": [
    "fig = plt.figure(figsize=(10, 6))\n",
    "ax = fig.gca(projection='3d')\n",
    "K, days = np.meshgrid(K, days)\n",
    "surf = ax.plot_surface(K, days, impliedvol_s.T, rstride=2, cstride=2, cmap=plt.cm.coolwarm, linewidth=0.5, antialiased=True)\n",
    "ax.set_xlabel('Strike Price')\n",
    "ax.set_ylabel('Time to Expiry (Days)')\n",
    "ax.set_zlabel('Implied Volatility (%)')\n",
    "plt.title('The Volatility Surface')\n",
    "fig.colorbar(surf, shrink=0.5, aspect=5);"
   ]
  }
 ],
 "metadata": {
  "kernelspec": {
   "display_name": "Python 3 (ipykernel)",
   "language": "python",
   "name": "python3"
  },
  "language_info": {
   "codemirror_mode": {
    "name": "ipython",
    "version": 3
   },
   "file_extension": ".py",
   "mimetype": "text/x-python",
   "name": "python",
   "nbconvert_exporter": "python",
   "pygments_lexer": "ipython3",
   "version": "3.9.7"
  }
 },
 "nbformat": 4,
 "nbformat_minor": 4
}
