{
 "cells": [
  {
   "cell_type": "markdown",
   "metadata": {},
   "source": [
    "# Week 7 Practice"
   ]
  },
  {
   "cell_type": "markdown",
   "metadata": {},
   "source": [
    "## Binomial Tree (CRR Tree)"
   ]
  },
  {
   "cell_type": "markdown",
   "metadata": {},
   "source": [
    "The Binomial options pricing model approach has been widely used since it is able to handle a variety of conditions for which other models cannot easily be applied. This is largely because the BOPM is based on the description of an underlying instrument over a period of time rather than a single point."
   ]
  },
  {
   "cell_type": "code",
   "execution_count": 1,
   "metadata": {},
   "outputs": [],
   "source": [
    "import numpy as np\n",
    "import os"
   ]
  },
  {
   "cell_type": "markdown",
   "metadata": {},
   "source": [
    "The Binomial options pricing model approach has been widely used since it is able to handle a variety of conditions for which other models cannot easily be applied. This is largely because the BOPM is based on the description of an underlying instrument over a period of time rather than a single point."
   ]
  },
  {
   "cell_type": "markdown",
   "metadata": {},
   "source": [
    "### Data Input"
   ]
  },
  {
   "cell_type": "markdown",
   "metadata": {},
   "source": [
    "Valuation is performed iteratively, starting at each of the final nodes (those that may be reached at the time of expiration), and then working backwards through the tree towards the first node (valuation date). The value computed at each stage is the value of the option at that point in time."
   ]
  },
  {
   "cell_type": "code",
   "execution_count": 2,
   "metadata": {},
   "outputs": [],
   "source": [
    "S0 = 100.0              # spot stock price\n",
    "K = 100.0               # strike\n",
    "T = 1.0                 # maturity \n",
    "r = 0.1                 # risk free rate \n",
    "sig = 0.2               # diffusion coefficient or volatility\n",
    "N = 3                   # number of periods or number of time steps  \n",
    "payoff = \"put\"          # payoff "
   ]
  },
  {
   "cell_type": "markdown",
   "metadata": {},
   "source": [
    "### Step 1: Create the binomial price tree"
   ]
  },
  {
   "cell_type": "markdown",
   "metadata": {},
   "source": [
    "The tree of prices is produced by working forward from valuation date to expiration.\n",
    "\n",
    "At each step, it is assumed that the underlying instrument will move up or down by a specific factor ( u or d) per step of the tree (where, by definition, u ≥ 1 and 0 < d ≤ 1 ). So, if S is the current price, then in the next period the price will either be S_up = S * u or S_down = S * d."
   ]
  },
  {
   "cell_type": "code",
   "execution_count": 3,
   "metadata": {},
   "outputs": [],
   "source": [
    "dT = float(T) / N                             # Delta t\n",
    "u = np.exp(sig * np.sqrt(dT))                 # up factor\n",
    "d = 1.0 / u                                   # down factor "
   ]
  },
  {
   "cell_type": "code",
   "execution_count": 4,
   "metadata": {},
   "outputs": [],
   "source": [
    "S = np.zeros((N + 1, N + 1))\n",
    "S[0, 0] = S0\n",
    "z = 1\n",
    "for t in range(1, N + 1):\n",
    "    for i in range(z):\n",
    "        S[i, t] = S[i, t-1] * u\n",
    "        S[i+1, t] = S[i, t-1] * d\n",
    "    z += 1"
   ]
  },
  {
   "cell_type": "code",
   "execution_count": 5,
   "metadata": {},
   "outputs": [
    {
     "data": {
      "text/plain": [
       "array([[100.        , 112.24009024, 125.97837858, 141.39824581],\n",
       "       [  0.        ,  89.09472523, 100.        , 112.24009024],\n",
       "       [  0.        ,   0.        ,  79.37870064,  89.09472523],\n",
       "       [  0.        ,   0.        ,   0.        ,  70.72223522]])"
      ]
     },
     "execution_count": 5,
     "metadata": {},
     "output_type": "execute_result"
    }
   ],
   "source": [
    "S"
   ]
  },
  {
   "cell_type": "code",
   "execution_count": 6,
   "metadata": {},
   "outputs": [
    {
     "data": {
      "text/plain": [
       "0.6176090164403981"
      ]
     },
     "execution_count": 6,
     "metadata": {},
     "output_type": "execute_result"
    }
   ],
   "source": [
    "a = np.exp(r * dT)    # risk free compound return\n",
    "p = (a - d)/ (u - d)  # risk neutral up probability\n",
    "q = 1.0 - p           # risk neutral down probability\n",
    "p"
   ]
  },
  {
   "cell_type": "markdown",
   "metadata": {},
   "source": [
    "### Step 2: Find option value at each final node"
   ]
  },
  {
   "cell_type": "markdown",
   "metadata": {},
   "source": [
    "At each final node of the tree-i.e. at expiration of the option-the option value is simply its intrinsic, or exercise, value:\n",
    "Max[(S_n-K),0] for a call option and Max[(K-S_n),0] for a put option, where K is the strike price and S_n is the spot price of the underlying asset at the n-th period."
   ]
  },
  {
   "cell_type": "code",
   "execution_count": 7,
   "metadata": {},
   "outputs": [
    {
     "data": {
      "text/plain": [
       "array([[ 0.        ,  0.        ,  0.        ,  0.        ],\n",
       "       [ 0.        ,  0.        ,  0.        ,  0.        ],\n",
       "       [ 0.        ,  0.        ,  0.        , 10.90527477],\n",
       "       [ 0.        ,  0.        ,  0.        , 29.27776478]])"
      ]
     },
     "execution_count": 7,
     "metadata": {},
     "output_type": "execute_result"
    }
   ],
   "source": [
    "S_T = S[:,-1]\n",
    "V = np.zeros((N + 1, N + 1))\n",
    "if payoff ==\"call\":\n",
    "    V[:,-1] = np.maximum(S_T-K, 0.0)\n",
    "elif payoff ==\"put\":\n",
    "    V[:,-1] = np.maximum(K-S_T, 0.0)\n",
    "V"
   ]
  },
  {
   "cell_type": "markdown",
   "metadata": {},
   "source": [
    "### Step 3: Find option value at earlier nodes"
   ]
  },
  {
   "cell_type": "markdown",
   "metadata": {},
   "source": [
    "Once the above step is complete, the option value is then found for each node, starting at the penultimate time step, and working back to the first node of the tree (the valuation date) where the calculated result is the value of the option."
   ]
  },
  {
   "cell_type": "markdown",
   "metadata": {},
   "source": [
    "#### European Option"
   ]
  },
  {
   "cell_type": "code",
   "execution_count": 8,
   "metadata": {},
   "outputs": [
    {
     "data": {
      "text/plain": [
       "array([[ 4.15461967,  1.49175992,  0.        ,  0.        ],\n",
       "       [ 0.        ,  8.82373471,  4.0333673 ,  0.        ],\n",
       "       [ 0.        ,  0.        , 17.34290941, 10.90527477],\n",
       "       [ 0.        ,  0.        ,  0.        , 29.27776478]])"
      ]
     },
     "execution_count": 8,
     "metadata": {},
     "output_type": "execute_result"
    }
   ],
   "source": [
    "# for European Option\n",
    "for j in range(N-1, -1, -1):\n",
    "    for i in range(j+1):\n",
    "        V[i,j] = np.exp(-r*dT) * (p * V[i,j + 1] + q * V[i + 1,j + 1])\n",
    "V"
   ]
  },
  {
   "cell_type": "code",
   "execution_count": 9,
   "metadata": {},
   "outputs": [
    {
     "name": "stdout",
     "output_type": "stream",
     "text": [
      "European put 4.154619665678642\n"
     ]
    }
   ],
   "source": [
    "print('European ' + payoff, str( V[0,0]))"
   ]
  },
  {
   "cell_type": "markdown",
   "metadata": {},
   "source": [
    "#### American Option"
   ]
  },
  {
   "cell_type": "code",
   "execution_count": 10,
   "metadata": {},
   "outputs": [
    {
     "data": {
      "text/plain": [
       "array([[ 4.92448707,  1.49175992,  0.        ,  0.        ],\n",
       "       [ 0.        , 10.90527477,  4.0333673 ,  0.        ],\n",
       "       [ 0.        ,  0.        , 20.62129936, 10.90527477],\n",
       "       [ 0.        ,  0.        ,  0.        , 29.27776478]])"
      ]
     },
     "execution_count": 10,
     "metadata": {},
     "output_type": "execute_result"
    }
   ],
   "source": [
    "# for American Option\n",
    "if payoff ==\"call\":\n",
    "    for j in range(N-1, -1, -1):\n",
    "        for i in range(j+1):\n",
    "            V[i,j] = np.maximum(S[i,j] - K,np.exp(-r*dT) * (p * V[i,j + 1] + q * V[i + 1,j + 1]))\n",
    "elif payoff ==\"put\":\n",
    "    for j in range(N-1, -1, -1):\n",
    "        for i in range(j+1):\n",
    "            V[i,j] = np.maximum(K - S[i,j],np.exp(-r*dT) * (p * V[i,j + 1] + q * V[i + 1,j + 1]))\n",
    "V"
   ]
  },
  {
   "cell_type": "code",
   "execution_count": 11,
   "metadata": {},
   "outputs": [
    {
     "name": "stdout",
     "output_type": "stream",
     "text": [
      "American put 4.924487073316837\n"
     ]
    }
   ],
   "source": [
    "print('American ' + payoff, str( V[0,0]))"
   ]
  },
  {
   "cell_type": "markdown",
   "metadata": {},
   "source": [
    "## Monte Carlo Simulation"
   ]
  },
  {
   "cell_type": "markdown",
   "metadata": {},
   "source": [
    "It still has one Python loop, namely over the time intervals. The other dimension is handled by vectorized code over all paths."
   ]
  },
  {
   "cell_type": "code",
   "execution_count": 12,
   "metadata": {},
   "outputs": [],
   "source": [
    "def mcs_simulation_np(p):\n",
    "    M = p\n",
    "    I = p\n",
    "    dt = T / M \n",
    "    S = np.zeros((M + 1, I))\n",
    "    S[0] = S0 \n",
    "    rn = np.random.standard_normal(S.shape) \n",
    "    for t in range(1, M + 1): \n",
    "        S[t] = S[t-1] * np.exp((r - sigma ** 2 / 2) * dt + sigma * np.sqrt(dt) * rn[t]) \n",
    "    return S"
   ]
  },
  {
   "cell_type": "code",
   "execution_count": 13,
   "metadata": {},
   "outputs": [],
   "source": [
    "T = 1\n",
    "r = 0.1\n",
    "sigma = 0.2\n",
    "S0 = 100\n",
    "K = 100"
   ]
  },
  {
   "cell_type": "code",
   "execution_count": 14,
   "metadata": {},
   "outputs": [],
   "source": [
    "S = mcs_simulation_np(1000)"
   ]
  },
  {
   "cell_type": "code",
   "execution_count": 15,
   "metadata": {},
   "outputs": [
    {
     "data": {
      "text/plain": [
       "array([[100.        , 100.14234018, 100.5864854 , ..., 110.48407481,\n",
       "        110.08815709, 111.1857105 ],\n",
       "       [100.        ,  99.32785158,  99.12194201, ..., 133.72399933,\n",
       "        134.27009855, 135.66185097],\n",
       "       [100.        ,  99.70319745,  99.50981398, ...,  69.43627125,\n",
       "         69.76060792,  69.98258844],\n",
       "       ...,\n",
       "       [100.        ,  99.59559465,  98.93067237, ..., 107.35750024,\n",
       "        108.23401806, 107.85920649],\n",
       "       [100.        , 100.20469473, 101.05467117, ..., 109.48033264,\n",
       "        109.65710536, 109.82341277],\n",
       "       [100.        ,  99.27346742,  99.73002741, ..., 101.00338694,\n",
       "        101.96032499, 102.4738679 ]])"
      ]
     },
     "execution_count": 15,
     "metadata": {},
     "output_type": "execute_result"
    }
   ],
   "source": [
    "S = np.transpose(S)\n",
    "S"
   ]
  },
  {
   "cell_type": "code",
   "execution_count": 16,
   "metadata": {},
   "outputs": [
    {
     "data": {
      "text/plain": [
       "Text(0.5, 1.0, 'Frequency distribution of the simulated end-of-preiod values')"
      ]
     },
     "execution_count": 16,
     "metadata": {},
     "output_type": "execute_result"
    },
    {
     "data": {
      "image/png": "[encoded data removed]",
      "text/plain": [
       "<Figure size 432x288 with 1 Axes>"
      ]
     },
     "metadata": {
      "needs_background": "light"
     },
     "output_type": "display_data"
    }
   ],
   "source": [
    "import matplotlib.pyplot as plt\n",
    "n, bins, patches = plt.hist(x=S[:,-1], bins='auto', color='#0504aa',alpha=0.7, rwidth=0.85)\n",
    "\n",
    "plt.grid(axis='y', alpha=0.75)\n",
    "plt.xlabel('S_T')\n",
    "plt.ylabel('Frequency')\n",
    "plt.title('Frequency distribution of the simulated end-of-preiod values')"
   ]
  },
  {
   "cell_type": "code",
   "execution_count": 17,
   "metadata": {},
   "outputs": [
    {
     "name": "stdout",
     "output_type": "stream",
     "text": [
      "European put 4.20444255844773\n"
     ]
    }
   ],
   "source": [
    "p = np.mean(np.maximum(K - S[:,-1],0))\n",
    "print('European put', str(p))"
   ]
  },
  {
   "cell_type": "code",
   "execution_count": 18,
   "metadata": {},
   "outputs": [
    {
     "name": "stdout",
     "output_type": "stream",
     "text": [
      "European call 15.147767609273155\n"
     ]
    }
   ],
   "source": [
    "c = np.mean(np.maximum(S[:,-1] - K,0))\n",
    "print('European call', str(c))"
   ]
  }
 ],
 "metadata": {
  "kernelspec": {
   "display_name": "Python 3 (ipykernel)",
   "language": "python",
   "name": "python3"
  },
  "language_info": {
   "codemirror_mode": {
    "name": "ipython",
    "version": 3
   },
   "file_extension": ".py",
   "mimetype": "text/x-python",
   "name": "python",
   "nbconvert_exporter": "python",
   "pygments_lexer": "ipython3",
   "version": "3.9.7"
  }
 },
 "nbformat": 4,
 "nbformat_minor": 4
}
