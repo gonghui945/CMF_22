{
 "cells": [
  {
   "cell_type": "markdown",
   "metadata": {},
   "source": [
    "# Week 8 Practice"
   ]
  },
  {
   "cell_type": "markdown",
   "metadata": {},
   "source": [
    "## Black-Scholes Model"
   ]
  },
  {
   "cell_type": "code",
   "execution_count": 1,
   "metadata": {},
   "outputs": [],
   "source": [
    "import numpy as np\n",
    "import pandas as pd\n",
    "import matplotlib.pyplot as plt\n",
    "import scipy.stats as si\n",
    "import yfinance as yf"
   ]
  },
  {
   "cell_type": "markdown",
   "metadata": {},
   "source": [
    "###  European Options"
   ]
  },
  {
   "cell_type": "markdown",
   "metadata": {},
   "source": [
    "Non-Dividend Paying Options"
   ]
  },
  {
   "cell_type": "code",
   "execution_count": 2,
   "metadata": {},
   "outputs": [],
   "source": [
    "def euro_option_bs(S, K, T, r, vol, payoff):\n",
    "    \n",
    "    #S: spot price\n",
    "    #K: strike price\n",
    "    #T: time to maturity\n",
    "    #r: risk free rate\n",
    "    #vol: volatility of underlying asset\n",
    "    #payoff: call or put\n",
    "    \n",
    "    d1 = (np.log(S / K) + (r + 0.5 * vol ** 2) * T) / (vol * np.sqrt(T))\n",
    "    d2 = (np.log(S / K) + (r - 0.5 * vol ** 2) * T) / (vol * np.sqrt(T))\n",
    "    if payoff == \"call\":\n",
    "        option_value = S * si.norm.cdf(d1, 0.0, 1.0) - K * np.exp(-r * T) * si.norm.cdf(d2, 0.0, 1.0)\n",
    "    elif payoff == \"put\":\n",
    "        option_value = - S * si.norm.cdf(-d1, 0.0, 1.0) + K * np.exp(-r * T) * si.norm.cdf(-d2, 0.0, 1.0)\n",
    "    \n",
    "    return option_value"
   ]
  },
  {
   "cell_type": "code",
   "execution_count": 3,
   "metadata": {},
   "outputs": [
    {
     "data": {
      "text/plain": [
       "12.335998930368717"
      ]
     },
     "execution_count": 3,
     "metadata": {},
     "output_type": "execute_result"
    }
   ],
   "source": [
    "euro_option_bs(100, 100, 1, 0.05, 0.25, 'call')"
   ]
  },
  {
   "cell_type": "code",
   "execution_count": 4,
   "metadata": {},
   "outputs": [],
   "source": [
    "S = np.linspace(50,150,11)\n",
    "cp = np.zeros((len(S),1))\n",
    "for i in range(len(S)):\n",
    "    cp[i] = euro_option_bs(S[i], 100, 1, 0.05, 0.25, 'call')"
   ]
  },
  {
   "cell_type": "code",
   "execution_count": 5,
   "metadata": {},
   "outputs": [
    {
     "data": {
      "text/plain": [
       "<matplotlib.legend.Legend at 0x203413cb760>"
      ]
     },
     "execution_count": 5,
     "metadata": {},
     "output_type": "execute_result"
    },
    {
     "data": {
      "image/png": "[encoded data removed]",
      "text/plain": [
       "<Figure size 432x288 with 1 Axes>"
      ]
     },
     "metadata": {
      "needs_background": "light"
     },
     "output_type": "display_data"
    }
   ],
   "source": [
    "fig = plt.figure()\n",
    "plt.plot(S, cp, '-')\n",
    "plt.plot(S, np.maximum(S-100,0), '--')\n",
    "plt.xlabel('Stock Price')\n",
    "plt.ylabel('Price')\n",
    "plt.title('European Call')\n",
    "plt.legend(['Option Price','Payoff at T'])"
   ]
  },
  {
   "cell_type": "markdown",
   "metadata": {},
   "source": [
    "Dividend Paying Options"
   ]
  },
  {
   "cell_type": "code",
   "execution_count": 6,
   "metadata": {},
   "outputs": [],
   "source": [
    "def euro_option_bsm(S, K, T, r, q, vol, payoff):\n",
    "    \n",
    "    #S: spot price\n",
    "    #K: strike price\n",
    "    #T: time to maturity\n",
    "    #r: risk free rate\n",
    "    #q: continuous dividend yield\n",
    "    #vol: volatility of underlying asset\n",
    "    #payoff: call or put\n",
    "    \n",
    "    d1 = (np.log(S / K) + (r - q + 0.5 * vol ** 2) * T) / (vol * np.sqrt(T))\n",
    "    d2 = (np.log(S / K) + (r - q - 0.5 * vol ** 2) * T) / (vol * np.sqrt(T))\n",
    "    if payoff == \"call\":\n",
    "        option_value = S * np.exp(-q * T) * si.norm.cdf(d1, 0.0, 1.0) - K * np.exp(-r * T) * si.norm.cdf(d2, 0.0, 1.0)\n",
    "    elif payoff == \"put\":\n",
    "        option_value =  - S * np.exp(-q * T) * si.norm.cdf(-d1, 0.0, 1.0) + K * np.exp(-r * T) * si.norm.cdf(-d2, 0.0, 1.0)\n",
    "    \n",
    "    return option_value"
   ]
  },
  {
   "cell_type": "code",
   "execution_count": 7,
   "metadata": {},
   "outputs": [
    {
     "data": {
      "text/plain": [
       "10.549284934339425"
      ]
     },
     "execution_count": 7,
     "metadata": {},
     "output_type": "execute_result"
    }
   ],
   "source": [
    "euro_option_bsm(100, 100, 1, 0.05, 0.03, 0.25, 'call')"
   ]
  },
  {
   "cell_type": "code",
   "execution_count": 8,
   "metadata": {},
   "outputs": [],
   "source": [
    "T = np.linspace(0.25,3,12)\n",
    "cpd = np.zeros((len(T),1))\n",
    "for i in range(len(T)):\n",
    "    cpd [i] = euro_option_bsm(100, 100, T[i], 0.05, 0.03, 0.25, 'call')"
   ]
  },
  {
   "cell_type": "code",
   "execution_count": 9,
   "metadata": {},
   "outputs": [
    {
     "data": {
      "text/plain": [
       "<matplotlib.legend.Legend at 0x20341bbab20>"
      ]
     },
     "execution_count": 9,
     "metadata": {},
     "output_type": "execute_result"
    },
    {
     "data": {
      "image/png": "[encoded data removed]",
      "text/plain": [
       "<Figure size 432x288 with 1 Axes>"
      ]
     },
     "metadata": {
      "needs_background": "light"
     },
     "output_type": "display_data"
    }
   ],
   "source": [
    "fig = plt.figure()\n",
    "plt.plot(T, cpd, '-')\n",
    "plt.xlabel('Time to Expiry')\n",
    "plt.ylabel('Price')\n",
    "plt.title('European Call')\n",
    "plt.legend(['Option Price'])"
   ]
  },
  {
   "cell_type": "markdown",
   "metadata": {},
   "source": [
    "### Option Trading"
   ]
  },
  {
   "cell_type": "markdown",
   "metadata": {},
   "source": [
    "Has Black Scholes correctly predicted the market value of the options?"
   ]
  },
  {
   "cell_type": "code",
   "execution_count": 10,
   "metadata": {},
   "outputs": [
    {
     "data": {
      "text/html": [
       "<div>\n",
       "<style scoped>\n",
       "    .dataframe tbody tr th:only-of-type {\n",
       "        vertical-align: middle;\n",
       "    }\n",
       "\n",
       "    .dataframe tbody tr th {\n",
       "        vertical-align: top;\n",
       "    }\n",
       "\n",
       "    .dataframe thead th {\n",
       "        text-align: right;\n",
       "    }\n",
       "</style>\n",
       "<table border=\"1\" class=\"dataframe\">\n",
       "  <thead>\n",
       "    <tr style=\"text-align: right;\">\n",
       "      <th></th>\n",
       "      <th>contractSymbol</th>\n",
       "      <th>lastTradeDate</th>\n",
       "      <th>strike</th>\n",
       "      <th>lastPrice</th>\n",
       "      <th>bid</th>\n",
       "      <th>ask</th>\n",
       "      <th>change</th>\n",
       "      <th>percentChange</th>\n",
       "      <th>volume</th>\n",
       "      <th>openInterest</th>\n",
       "      <th>impliedVolatility</th>\n",
       "      <th>inTheMoney</th>\n",
       "      <th>contractSize</th>\n",
       "      <th>currency</th>\n",
       "    </tr>\n",
       "  </thead>\n",
       "  <tbody>\n",
       "    <tr>\n",
       "      <th>0</th>\n",
       "      <td>AAPL221118C00050000</td>\n",
       "      <td>2022-11-04 18:43:38+00:00</td>\n",
       "      <td>50.0</td>\n",
       "      <td>86.65</td>\n",
       "      <td>99.30</td>\n",
       "      <td>99.95</td>\n",
       "      <td>0.000000</td>\n",
       "      <td>0.000000</td>\n",
       "      <td>4.0</td>\n",
       "      <td>9.0</td>\n",
       "      <td>3.996094</td>\n",
       "      <td>True</td>\n",
       "      <td>REGULAR</td>\n",
       "      <td>USD</td>\n",
       "    </tr>\n",
       "    <tr>\n",
       "      <th>1</th>\n",
       "      <td>AAPL221118C00055000</td>\n",
       "      <td>2022-11-03 18:17:55+00:00</td>\n",
       "      <td>55.0</td>\n",
       "      <td>84.45</td>\n",
       "      <td>94.25</td>\n",
       "      <td>94.90</td>\n",
       "      <td>0.000000</td>\n",
       "      <td>0.000000</td>\n",
       "      <td>80.0</td>\n",
       "      <td>0.0</td>\n",
       "      <td>3.554689</td>\n",
       "      <td>True</td>\n",
       "      <td>REGULAR</td>\n",
       "      <td>USD</td>\n",
       "    </tr>\n",
       "    <tr>\n",
       "      <th>2</th>\n",
       "      <td>AAPL221118C00060000</td>\n",
       "      <td>2022-11-11 16:16:03+00:00</td>\n",
       "      <td>60.0</td>\n",
       "      <td>87.45</td>\n",
       "      <td>89.30</td>\n",
       "      <td>90.00</td>\n",
       "      <td>4.489998</td>\n",
       "      <td>5.412244</td>\n",
       "      <td>2.0</td>\n",
       "      <td>3.0</td>\n",
       "      <td>3.464845</td>\n",
       "      <td>True</td>\n",
       "      <td>REGULAR</td>\n",
       "      <td>USD</td>\n",
       "    </tr>\n",
       "    <tr>\n",
       "      <th>3</th>\n",
       "      <td>AAPL221118C00065000</td>\n",
       "      <td>2022-11-03 19:33:52+00:00</td>\n",
       "      <td>65.0</td>\n",
       "      <td>74.95</td>\n",
       "      <td>84.40</td>\n",
       "      <td>85.05</td>\n",
       "      <td>0.000000</td>\n",
       "      <td>0.000000</td>\n",
       "      <td>40.0</td>\n",
       "      <td>0.0</td>\n",
       "      <td>2.343754</td>\n",
       "      <td>True</td>\n",
       "      <td>REGULAR</td>\n",
       "      <td>USD</td>\n",
       "    </tr>\n",
       "    <tr>\n",
       "      <th>4</th>\n",
       "      <td>AAPL221118C00070000</td>\n",
       "      <td>2022-11-09 15:00:53+00:00</td>\n",
       "      <td>70.0</td>\n",
       "      <td>67.50</td>\n",
       "      <td>79.30</td>\n",
       "      <td>79.90</td>\n",
       "      <td>0.000000</td>\n",
       "      <td>0.000000</td>\n",
       "      <td>3.0</td>\n",
       "      <td>3.0</td>\n",
       "      <td>2.753909</td>\n",
       "      <td>True</td>\n",
       "      <td>REGULAR</td>\n",
       "      <td>USD</td>\n",
       "    </tr>\n",
       "    <tr>\n",
       "      <th>...</th>\n",
       "      <td>...</td>\n",
       "      <td>...</td>\n",
       "      <td>...</td>\n",
       "      <td>...</td>\n",
       "      <td>...</td>\n",
       "      <td>...</td>\n",
       "      <td>...</td>\n",
       "      <td>...</td>\n",
       "      <td>...</td>\n",
       "      <td>...</td>\n",
       "      <td>...</td>\n",
       "      <td>...</td>\n",
       "      <td>...</td>\n",
       "      <td>...</td>\n",
       "    </tr>\n",
       "    <tr>\n",
       "      <th>70</th>\n",
       "      <td>AAPL221118C00260000</td>\n",
       "      <td>2022-11-03 13:30:00+00:00</td>\n",
       "      <td>260.0</td>\n",
       "      <td>0.01</td>\n",
       "      <td>0.00</td>\n",
       "      <td>0.01</td>\n",
       "      <td>0.000000</td>\n",
       "      <td>0.000000</td>\n",
       "      <td>1.0</td>\n",
       "      <td>1391.0</td>\n",
       "      <td>1.312503</td>\n",
       "      <td>False</td>\n",
       "      <td>REGULAR</td>\n",
       "      <td>USD</td>\n",
       "    </tr>\n",
       "    <tr>\n",
       "      <th>71</th>\n",
       "      <td>AAPL221118C00270000</td>\n",
       "      <td>2022-11-03 19:45:17+00:00</td>\n",
       "      <td>270.0</td>\n",
       "      <td>0.01</td>\n",
       "      <td>0.00</td>\n",
       "      <td>0.01</td>\n",
       "      <td>0.000000</td>\n",
       "      <td>0.000000</td>\n",
       "      <td>1.0</td>\n",
       "      <td>2624.0</td>\n",
       "      <td>1.406253</td>\n",
       "      <td>False</td>\n",
       "      <td>REGULAR</td>\n",
       "      <td>USD</td>\n",
       "    </tr>\n",
       "    <tr>\n",
       "      <th>72</th>\n",
       "      <td>AAPL221118C00280000</td>\n",
       "      <td>2022-11-08 15:22:05+00:00</td>\n",
       "      <td>280.0</td>\n",
       "      <td>0.01</td>\n",
       "      <td>0.00</td>\n",
       "      <td>0.01</td>\n",
       "      <td>0.000000</td>\n",
       "      <td>0.000000</td>\n",
       "      <td>1.0</td>\n",
       "      <td>1983.0</td>\n",
       "      <td>1.500002</td>\n",
       "      <td>False</td>\n",
       "      <td>REGULAR</td>\n",
       "      <td>USD</td>\n",
       "    </tr>\n",
       "    <tr>\n",
       "      <th>73</th>\n",
       "      <td>AAPL221118C00290000</td>\n",
       "      <td>2022-11-08 18:19:30+00:00</td>\n",
       "      <td>290.0</td>\n",
       "      <td>0.01</td>\n",
       "      <td>0.00</td>\n",
       "      <td>0.01</td>\n",
       "      <td>0.000000</td>\n",
       "      <td>0.000000</td>\n",
       "      <td>2.0</td>\n",
       "      <td>880.0</td>\n",
       "      <td>1.562502</td>\n",
       "      <td>False</td>\n",
       "      <td>REGULAR</td>\n",
       "      <td>USD</td>\n",
       "    </tr>\n",
       "    <tr>\n",
       "      <th>74</th>\n",
       "      <td>AAPL221118C00300000</td>\n",
       "      <td>2022-11-11 20:45:37+00:00</td>\n",
       "      <td>300.0</td>\n",
       "      <td>0.01</td>\n",
       "      <td>0.00</td>\n",
       "      <td>0.01</td>\n",
       "      <td>0.000000</td>\n",
       "      <td>0.000000</td>\n",
       "      <td>2.0</td>\n",
       "      <td>10889.0</td>\n",
       "      <td>1.625002</td>\n",
       "      <td>False</td>\n",
       "      <td>REGULAR</td>\n",
       "      <td>USD</td>\n",
       "    </tr>\n",
       "  </tbody>\n",
       "</table>\n",
       "<p>75 rows × 14 columns</p>\n",
       "</div>"
      ],
      "text/plain": [
       "         contractSymbol             lastTradeDate  strike  lastPrice    bid  \\\n",
       "0   AAPL221118C00050000 2022-11-04 18:43:38+00:00    50.0      86.65  99.30   \n",
       "1   AAPL221118C00055000 2022-11-03 18:17:55+00:00    55.0      84.45  94.25   \n",
       "2   AAPL221118C00060000 2022-11-11 16:16:03+00:00    60.0      87.45  89.30   \n",
       "3   AAPL221118C00065000 2022-11-03 19:33:52+00:00    65.0      74.95  84.40   \n",
       "4   AAPL221118C00070000 2022-11-09 15:00:53+00:00    70.0      67.50  79.30   \n",
       "..                  ...                       ...     ...        ...    ...   \n",
       "70  AAPL221118C00260000 2022-11-03 13:30:00+00:00   260.0       0.01   0.00   \n",
       "71  AAPL221118C00270000 2022-11-03 19:45:17+00:00   270.0       0.01   0.00   \n",
       "72  AAPL221118C00280000 2022-11-08 15:22:05+00:00   280.0       0.01   0.00   \n",
       "73  AAPL221118C00290000 2022-11-08 18:19:30+00:00   290.0       0.01   0.00   \n",
       "74  AAPL221118C00300000 2022-11-11 20:45:37+00:00   300.0       0.01   0.00   \n",
       "\n",
       "      ask    change  percentChange  volume  openInterest  impliedVolatility  \\\n",
       "0   99.95  0.000000       0.000000     4.0           9.0           3.996094   \n",
       "1   94.90  0.000000       0.000000    80.0           0.0           3.554689   \n",
       "2   90.00  4.489998       5.412244     2.0           3.0           3.464845   \n",
       "3   85.05  0.000000       0.000000    40.0           0.0           2.343754   \n",
       "4   79.90  0.000000       0.000000     3.0           3.0           2.753909   \n",
       "..    ...       ...            ...     ...           ...                ...   \n",
       "70   0.01  0.000000       0.000000     1.0        1391.0           1.312503   \n",
       "71   0.01  0.000000       0.000000     1.0        2624.0           1.406253   \n",
       "72   0.01  0.000000       0.000000     1.0        1983.0           1.500002   \n",
       "73   0.01  0.000000       0.000000     2.0         880.0           1.562502   \n",
       "74   0.01  0.000000       0.000000     2.0       10889.0           1.625002   \n",
       "\n",
       "    inTheMoney contractSize currency  \n",
       "0         True      REGULAR      USD  \n",
       "1         True      REGULAR      USD  \n",
       "2         True      REGULAR      USD  \n",
       "3         True      REGULAR      USD  \n",
       "4         True      REGULAR      USD  \n",
       "..         ...          ...      ...  \n",
       "70       False      REGULAR      USD  \n",
       "71       False      REGULAR      USD  \n",
       "72       False      REGULAR      USD  \n",
       "73       False      REGULAR      USD  \n",
       "74       False      REGULAR      USD  \n",
       "\n",
       "[75 rows x 14 columns]"
      ]
     },
     "execution_count": 10,
     "metadata": {},
     "output_type": "execute_result"
    }
   ],
   "source": [
    "AAPL = yf.Ticker('AAPL')\n",
    "opt = AAPL.option_chain('2022-11-18')\n",
    "opt.calls"
   ]
  },
  {
   "cell_type": "code",
   "execution_count": 11,
   "metadata": {},
   "outputs": [
    {
     "name": "stdout",
     "output_type": "stream",
     "text": [
      "[*********************100%***********************]  1 of 1 completed\n"
     ]
    }
   ],
   "source": [
    "data = yf.download(\"AAPL\", start=\"2021-11-11\", end=\"2022-11-11\")"
   ]
  },
  {
   "cell_type": "code",
   "execution_count": 12,
   "metadata": {},
   "outputs": [
    {
     "data": {
      "text/plain": [
       "Date\n",
       "2021-11-11    147.016754\n",
       "2021-11-12    149.124527\n",
       "2021-11-15    149.134460\n",
       "2021-11-16    150.128677\n",
       "2021-11-17    152.604324\n",
       "                 ...    \n",
       "2022-11-04    138.380005\n",
       "2022-11-07    138.919998\n",
       "2022-11-08    139.500000\n",
       "2022-11-09    134.869995\n",
       "2022-11-10    146.869995\n",
       "Name: Adj Close, Length: 252, dtype: float64"
      ]
     },
     "execution_count": 12,
     "metadata": {},
     "output_type": "execute_result"
    }
   ],
   "source": [
    "data['Adj Close']"
   ]
  },
  {
   "cell_type": "code",
   "execution_count": 13,
   "metadata": {},
   "outputs": [
    {
     "data": {
      "text/plain": [
       "0.35480418623063775"
      ]
     },
     "execution_count": 13,
     "metadata": {},
     "output_type": "execute_result"
    }
   ],
   "source": [
    "S = data['Adj Close'][-1]\n",
    "K = opt.calls['strike']\n",
    "T = 1/52\n",
    "r = 0.0382\n",
    "q = 0.0061\n",
    "log_return = np.log(data['Adj Close'] / data['Adj Close'].shift(1))\n",
    "vol = np.sqrt(252) * log_return.std() \n",
    "vol"
   ]
  },
  {
   "cell_type": "code",
   "execution_count": 14,
   "metadata": {},
   "outputs": [],
   "source": [
    "AAPL_bsm_call = np.zeros((len(K),1))\n",
    "for i in range(len(K)):\n",
    "    AAPL_bsm_call [i] = euro_option_bsm(S, K[i], T, r, q, vol, 'call')"
   ]
  },
  {
   "cell_type": "code",
   "execution_count": 15,
   "metadata": {},
   "outputs": [
    {
     "data": {
      "text/html": [
       "<div>\n",
       "<style scoped>\n",
       "    .dataframe tbody tr th:only-of-type {\n",
       "        vertical-align: middle;\n",
       "    }\n",
       "\n",
       "    .dataframe tbody tr th {\n",
       "        vertical-align: top;\n",
       "    }\n",
       "\n",
       "    .dataframe thead th {\n",
       "        text-align: right;\n",
       "    }\n",
       "</style>\n",
       "<table border=\"1\" class=\"dataframe\">\n",
       "  <thead>\n",
       "    <tr style=\"text-align: right;\">\n",
       "      <th></th>\n",
       "      <th>contractSymbol</th>\n",
       "      <th>lastTradeDate</th>\n",
       "      <th>strike</th>\n",
       "      <th>lastPrice</th>\n",
       "      <th>bid</th>\n",
       "      <th>ask</th>\n",
       "      <th>change</th>\n",
       "      <th>percentChange</th>\n",
       "      <th>volume</th>\n",
       "      <th>openInterest</th>\n",
       "      <th>impliedVolatility</th>\n",
       "      <th>inTheMoney</th>\n",
       "      <th>contractSize</th>\n",
       "      <th>currency</th>\n",
       "      <th>BSMPrice</th>\n",
       "    </tr>\n",
       "  </thead>\n",
       "  <tbody>\n",
       "    <tr>\n",
       "      <th>0</th>\n",
       "      <td>AAPL221118C00050000</td>\n",
       "      <td>2022-11-04 18:43:38+00:00</td>\n",
       "      <td>50.0</td>\n",
       "      <td>86.65</td>\n",
       "      <td>99.30</td>\n",
       "      <td>99.95</td>\n",
       "      <td>0.000000</td>\n",
       "      <td>0.000000</td>\n",
       "      <td>4.0</td>\n",
       "      <td>9.0</td>\n",
       "      <td>3.996094</td>\n",
       "      <td>True</td>\n",
       "      <td>REGULAR</td>\n",
       "      <td>USD</td>\n",
       "      <td>96.89</td>\n",
       "    </tr>\n",
       "    <tr>\n",
       "      <th>1</th>\n",
       "      <td>AAPL221118C00055000</td>\n",
       "      <td>2022-11-03 18:17:55+00:00</td>\n",
       "      <td>55.0</td>\n",
       "      <td>84.45</td>\n",
       "      <td>94.25</td>\n",
       "      <td>94.90</td>\n",
       "      <td>0.000000</td>\n",
       "      <td>0.000000</td>\n",
       "      <td>80.0</td>\n",
       "      <td>0.0</td>\n",
       "      <td>3.554689</td>\n",
       "      <td>True</td>\n",
       "      <td>REGULAR</td>\n",
       "      <td>USD</td>\n",
       "      <td>91.89</td>\n",
       "    </tr>\n",
       "    <tr>\n",
       "      <th>2</th>\n",
       "      <td>AAPL221118C00060000</td>\n",
       "      <td>2022-11-11 16:16:03+00:00</td>\n",
       "      <td>60.0</td>\n",
       "      <td>87.45</td>\n",
       "      <td>89.30</td>\n",
       "      <td>90.00</td>\n",
       "      <td>4.489998</td>\n",
       "      <td>5.412244</td>\n",
       "      <td>2.0</td>\n",
       "      <td>3.0</td>\n",
       "      <td>3.464845</td>\n",
       "      <td>True</td>\n",
       "      <td>REGULAR</td>\n",
       "      <td>USD</td>\n",
       "      <td>86.90</td>\n",
       "    </tr>\n",
       "    <tr>\n",
       "      <th>3</th>\n",
       "      <td>AAPL221118C00065000</td>\n",
       "      <td>2022-11-03 19:33:52+00:00</td>\n",
       "      <td>65.0</td>\n",
       "      <td>74.95</td>\n",
       "      <td>84.40</td>\n",
       "      <td>85.05</td>\n",
       "      <td>0.000000</td>\n",
       "      <td>0.000000</td>\n",
       "      <td>40.0</td>\n",
       "      <td>0.0</td>\n",
       "      <td>2.343754</td>\n",
       "      <td>True</td>\n",
       "      <td>REGULAR</td>\n",
       "      <td>USD</td>\n",
       "      <td>81.90</td>\n",
       "    </tr>\n",
       "    <tr>\n",
       "      <th>4</th>\n",
       "      <td>AAPL221118C00070000</td>\n",
       "      <td>2022-11-09 15:00:53+00:00</td>\n",
       "      <td>70.0</td>\n",
       "      <td>67.50</td>\n",
       "      <td>79.30</td>\n",
       "      <td>79.90</td>\n",
       "      <td>0.000000</td>\n",
       "      <td>0.000000</td>\n",
       "      <td>3.0</td>\n",
       "      <td>3.0</td>\n",
       "      <td>2.753909</td>\n",
       "      <td>True</td>\n",
       "      <td>REGULAR</td>\n",
       "      <td>USD</td>\n",
       "      <td>76.90</td>\n",
       "    </tr>\n",
       "    <tr>\n",
       "      <th>...</th>\n",
       "      <td>...</td>\n",
       "      <td>...</td>\n",
       "      <td>...</td>\n",
       "      <td>...</td>\n",
       "      <td>...</td>\n",
       "      <td>...</td>\n",
       "      <td>...</td>\n",
       "      <td>...</td>\n",
       "      <td>...</td>\n",
       "      <td>...</td>\n",
       "      <td>...</td>\n",
       "      <td>...</td>\n",
       "      <td>...</td>\n",
       "      <td>...</td>\n",
       "      <td>...</td>\n",
       "    </tr>\n",
       "    <tr>\n",
       "      <th>70</th>\n",
       "      <td>AAPL221118C00260000</td>\n",
       "      <td>2022-11-03 13:30:00+00:00</td>\n",
       "      <td>260.0</td>\n",
       "      <td>0.01</td>\n",
       "      <td>0.00</td>\n",
       "      <td>0.01</td>\n",
       "      <td>0.000000</td>\n",
       "      <td>0.000000</td>\n",
       "      <td>1.0</td>\n",
       "      <td>1391.0</td>\n",
       "      <td>1.312503</td>\n",
       "      <td>False</td>\n",
       "      <td>REGULAR</td>\n",
       "      <td>USD</td>\n",
       "      <td>0.00</td>\n",
       "    </tr>\n",
       "    <tr>\n",
       "      <th>71</th>\n",
       "      <td>AAPL221118C00270000</td>\n",
       "      <td>2022-11-03 19:45:17+00:00</td>\n",
       "      <td>270.0</td>\n",
       "      <td>0.01</td>\n",
       "      <td>0.00</td>\n",
       "      <td>0.01</td>\n",
       "      <td>0.000000</td>\n",
       "      <td>0.000000</td>\n",
       "      <td>1.0</td>\n",
       "      <td>2624.0</td>\n",
       "      <td>1.406253</td>\n",
       "      <td>False</td>\n",
       "      <td>REGULAR</td>\n",
       "      <td>USD</td>\n",
       "      <td>0.00</td>\n",
       "    </tr>\n",
       "    <tr>\n",
       "      <th>72</th>\n",
       "      <td>AAPL221118C00280000</td>\n",
       "      <td>2022-11-08 15:22:05+00:00</td>\n",
       "      <td>280.0</td>\n",
       "      <td>0.01</td>\n",
       "      <td>0.00</td>\n",
       "      <td>0.01</td>\n",
       "      <td>0.000000</td>\n",
       "      <td>0.000000</td>\n",
       "      <td>1.0</td>\n",
       "      <td>1983.0</td>\n",
       "      <td>1.500002</td>\n",
       "      <td>False</td>\n",
       "      <td>REGULAR</td>\n",
       "      <td>USD</td>\n",
       "      <td>0.00</td>\n",
       "    </tr>\n",
       "    <tr>\n",
       "      <th>73</th>\n",
       "      <td>AAPL221118C00290000</td>\n",
       "      <td>2022-11-08 18:19:30+00:00</td>\n",
       "      <td>290.0</td>\n",
       "      <td>0.01</td>\n",
       "      <td>0.00</td>\n",
       "      <td>0.01</td>\n",
       "      <td>0.000000</td>\n",
       "      <td>0.000000</td>\n",
       "      <td>2.0</td>\n",
       "      <td>880.0</td>\n",
       "      <td>1.562502</td>\n",
       "      <td>False</td>\n",
       "      <td>REGULAR</td>\n",
       "      <td>USD</td>\n",
       "      <td>0.00</td>\n",
       "    </tr>\n",
       "    <tr>\n",
       "      <th>74</th>\n",
       "      <td>AAPL221118C00300000</td>\n",
       "      <td>2022-11-11 20:45:37+00:00</td>\n",
       "      <td>300.0</td>\n",
       "      <td>0.01</td>\n",
       "      <td>0.00</td>\n",
       "      <td>0.01</td>\n",
       "      <td>0.000000</td>\n",
       "      <td>0.000000</td>\n",
       "      <td>2.0</td>\n",
       "      <td>10889.0</td>\n",
       "      <td>1.625002</td>\n",
       "      <td>False</td>\n",
       "      <td>REGULAR</td>\n",
       "      <td>USD</td>\n",
       "      <td>0.00</td>\n",
       "    </tr>\n",
       "  </tbody>\n",
       "</table>\n",
       "<p>75 rows × 15 columns</p>\n",
       "</div>"
      ],
      "text/plain": [
       "         contractSymbol             lastTradeDate  strike  lastPrice    bid  \\\n",
       "0   AAPL221118C00050000 2022-11-04 18:43:38+00:00    50.0      86.65  99.30   \n",
       "1   AAPL221118C00055000 2022-11-03 18:17:55+00:00    55.0      84.45  94.25   \n",
       "2   AAPL221118C00060000 2022-11-11 16:16:03+00:00    60.0      87.45  89.30   \n",
       "3   AAPL221118C00065000 2022-11-03 19:33:52+00:00    65.0      74.95  84.40   \n",
       "4   AAPL221118C00070000 2022-11-09 15:00:53+00:00    70.0      67.50  79.30   \n",
       "..                  ...                       ...     ...        ...    ...   \n",
       "70  AAPL221118C00260000 2022-11-03 13:30:00+00:00   260.0       0.01   0.00   \n",
       "71  AAPL221118C00270000 2022-11-03 19:45:17+00:00   270.0       0.01   0.00   \n",
       "72  AAPL221118C00280000 2022-11-08 15:22:05+00:00   280.0       0.01   0.00   \n",
       "73  AAPL221118C00290000 2022-11-08 18:19:30+00:00   290.0       0.01   0.00   \n",
       "74  AAPL221118C00300000 2022-11-11 20:45:37+00:00   300.0       0.01   0.00   \n",
       "\n",
       "      ask    change  percentChange  volume  openInterest  impliedVolatility  \\\n",
       "0   99.95  0.000000       0.000000     4.0           9.0           3.996094   \n",
       "1   94.90  0.000000       0.000000    80.0           0.0           3.554689   \n",
       "2   90.00  4.489998       5.412244     2.0           3.0           3.464845   \n",
       "3   85.05  0.000000       0.000000    40.0           0.0           2.343754   \n",
       "4   79.90  0.000000       0.000000     3.0           3.0           2.753909   \n",
       "..    ...       ...            ...     ...           ...                ...   \n",
       "70   0.01  0.000000       0.000000     1.0        1391.0           1.312503   \n",
       "71   0.01  0.000000       0.000000     1.0        2624.0           1.406253   \n",
       "72   0.01  0.000000       0.000000     1.0        1983.0           1.500002   \n",
       "73   0.01  0.000000       0.000000     2.0         880.0           1.562502   \n",
       "74   0.01  0.000000       0.000000     2.0       10889.0           1.625002   \n",
       "\n",
       "    inTheMoney contractSize currency  BSMPrice  \n",
       "0         True      REGULAR      USD     96.89  \n",
       "1         True      REGULAR      USD     91.89  \n",
       "2         True      REGULAR      USD     86.90  \n",
       "3         True      REGULAR      USD     81.90  \n",
       "4         True      REGULAR      USD     76.90  \n",
       "..         ...          ...      ...       ...  \n",
       "70       False      REGULAR      USD      0.00  \n",
       "71       False      REGULAR      USD      0.00  \n",
       "72       False      REGULAR      USD      0.00  \n",
       "73       False      REGULAR      USD      0.00  \n",
       "74       False      REGULAR      USD      0.00  \n",
       "\n",
       "[75 rows x 15 columns]"
      ]
     },
     "execution_count": 15,
     "metadata": {},
     "output_type": "execute_result"
    }
   ],
   "source": [
    "opt.calls['BSMPrice'] = pd.DataFrame(AAPL_bsm_call).round(2)\n",
    "opt.calls"
   ]
  },
  {
   "cell_type": "code",
   "execution_count": 16,
   "metadata": {},
   "outputs": [
    {
     "data": {
      "text/plain": [
       "0      11.817657\n",
       "1       8.809947\n",
       "2      -0.628931\n",
       "3       9.272849\n",
       "4      13.925926\n",
       "         ...    \n",
       "70   -100.000000\n",
       "71   -100.000000\n",
       "72   -100.000000\n",
       "73   -100.000000\n",
       "74   -100.000000\n",
       "Name: estimate_error, Length: 75, dtype: float64"
      ]
     },
     "execution_count": 16,
     "metadata": {},
     "output_type": "execute_result"
    }
   ],
   "source": [
    "opt.calls['estimate_error'] = ((opt.calls['BSMPrice'] - opt.calls['lastPrice'])/opt.calls['lastPrice'])*100\n",
    "opt.calls['estimate_error']"
   ]
  },
  {
   "cell_type": "code",
   "execution_count": 17,
   "metadata": {},
   "outputs": [
    {
     "data": {
      "text/plain": [
       "count     75.000000\n",
       "mean     -42.379299\n",
       "std       43.662817\n",
       "min     -100.000000\n",
       "25%     -100.000000\n",
       "50%      -26.388889\n",
       "75%      -11.270401\n",
       "max       64.444444\n",
       "Name: estimate_error, dtype: float64"
      ]
     },
     "execution_count": 17,
     "metadata": {},
     "output_type": "execute_result"
    }
   ],
   "source": [
    "opt.calls['estimate_error'].replace([np.inf, -np.inf], np.nan).dropna(axis=0).describe()"
   ]
  },
  {
   "cell_type": "markdown",
   "metadata": {},
   "source": [
    "Our mean estimation error is -59.41%, with a standard deviation of 44.79% points. Our median is even more promising at around -86.91%. Our standard deviation still seems a bit high."
   ]
  },
  {
   "cell_type": "code",
   "execution_count": 18,
   "metadata": {},
   "outputs": [
    {
     "data": {
      "text/plain": [
       "Text(0.5, 1.0, 'Histogram of Estimate Error')"
      ]
     },
     "execution_count": 18,
     "metadata": {},
     "output_type": "execute_result"
    },
    {
     "data": {
      "image/png": "[encoded data removed]",
      "text/plain": [
       "<Figure size 432x288 with 1 Axes>"
      ]
     },
     "metadata": {
      "needs_background": "light"
     },
     "output_type": "display_data"
    }
   ],
   "source": [
    "n, bins, patches = plt.hist(x=opt.calls['estimate_error'].replace([np.inf, -np.inf], np.nan).dropna(axis=0), bins='auto', color='#0504aa',alpha=0.7, rwidth=0.85)\n",
    "\n",
    "plt.grid(axis='y', alpha=0.75)\n",
    "plt.xlabel('Estimate Error')\n",
    "plt.ylabel('Frequency')\n",
    "plt.title('Histogram of Estimate Error')"
   ]
  },
  {
   "cell_type": "markdown",
   "metadata": {},
   "source": [
    "### Mibian - Options Pricing Library"
   ]
  },
  {
   "cell_type": "markdown",
   "metadata": {},
   "source": [
    "MibianLib is an open source python library for options pricing. You can use it to calculate the price, the implied volatility, the greeks or the put/call parity of an option using the Black-Scholes(-Merton) pricing models."
   ]
  },
  {
   "cell_type": "code",
   "execution_count": 19,
   "metadata": {},
   "outputs": [
    {
     "name": "stdout",
     "output_type": "stream",
     "text": [
      "Requirement already satisfied: mibian in c:\\users\\gongh\\anaconda3\\lib\\site-packages (0.1.3)\n",
      "Note: you may need to restart the kernel to use updated packages.\n"
     ]
    }
   ],
   "source": [
    "pip install mibian"
   ]
  },
  {
   "cell_type": "code",
   "execution_count": 20,
   "metadata": {},
   "outputs": [],
   "source": [
    "import mibian as mb"
   ]
  },
  {
   "cell_type": "code",
   "execution_count": 21,
   "metadata": {},
   "outputs": [],
   "source": [
    "option_100 = mb.BS([S, 150, r*100, 30], volatility = vol*100)\n",
    "\n",
    "# Used for pricing European options on stocks without dividends \n",
    "# BS([underlyingPrice, strikePrice, interestRate, daysToExpiration], volatility=x, callPrice=y, putPrice=z)"
   ]
  },
  {
   "cell_type": "code",
   "execution_count": 22,
   "metadata": {},
   "outputs": [
    {
     "data": {
      "text/plain": [
       "4.7747297278577605"
      ]
     },
     "execution_count": 22,
     "metadata": {},
     "output_type": "execute_result"
    }
   ],
   "source": [
    "option_100.callPrice"
   ]
  },
  {
   "cell_type": "code",
   "execution_count": 23,
   "metadata": {},
   "outputs": [],
   "source": [
    "option_100d = mb.Me([S, 150, r*100, q*100, 30], volatility = vol*100)\n",
    "\n",
    "# Used for pricing European options on stocks with dividends\n",
    "# Me([underlyingPrice, strikePrice, interestRate, annualDividends, daysToExpiration], volatility=x, callPrice=y, putPrice=z)"
   ]
  },
  {
   "cell_type": "code",
   "execution_count": 24,
   "metadata": {},
   "outputs": [
    {
     "data": {
      "text/plain": [
       "4.7522036982442515"
      ]
     },
     "execution_count": 24,
     "metadata": {},
     "output_type": "execute_result"
    }
   ],
   "source": [
    "option_100d.callPrice"
   ]
  },
  {
   "cell_type": "code",
   "execution_count": 25,
   "metadata": {},
   "outputs": [],
   "source": [
    "AAPL_mb_bsm_call = np.zeros((len(K),1))\n",
    "for i in range(len(K)):\n",
    "    AAPL_mb_bsm_call [i] = mb.Me([S, K[i], r*100, q*100, 7], volatility = vol*100).callPrice"
   ]
  },
  {
   "cell_type": "code",
   "execution_count": 26,
   "metadata": {},
   "outputs": [
    {
     "data": {
      "text/html": [
       "<div>\n",
       "<style scoped>\n",
       "    .dataframe tbody tr th:only-of-type {\n",
       "        vertical-align: middle;\n",
       "    }\n",
       "\n",
       "    .dataframe tbody tr th {\n",
       "        vertical-align: top;\n",
       "    }\n",
       "\n",
       "    .dataframe thead th {\n",
       "        text-align: right;\n",
       "    }\n",
       "</style>\n",
       "<table border=\"1\" class=\"dataframe\">\n",
       "  <thead>\n",
       "    <tr style=\"text-align: right;\">\n",
       "      <th></th>\n",
       "      <th>contractSymbol</th>\n",
       "      <th>lastTradeDate</th>\n",
       "      <th>strike</th>\n",
       "      <th>lastPrice</th>\n",
       "      <th>bid</th>\n",
       "      <th>ask</th>\n",
       "      <th>change</th>\n",
       "      <th>percentChange</th>\n",
       "      <th>volume</th>\n",
       "      <th>openInterest</th>\n",
       "      <th>impliedVolatility</th>\n",
       "      <th>inTheMoney</th>\n",
       "      <th>contractSize</th>\n",
       "      <th>currency</th>\n",
       "      <th>BSMPrice</th>\n",
       "      <th>estimate_error</th>\n",
       "      <th>MB_BSMPrice</th>\n",
       "    </tr>\n",
       "  </thead>\n",
       "  <tbody>\n",
       "    <tr>\n",
       "      <th>0</th>\n",
       "      <td>AAPL221118C00050000</td>\n",
       "      <td>2022-11-04 18:43:38+00:00</td>\n",
       "      <td>50.0</td>\n",
       "      <td>86.65</td>\n",
       "      <td>99.30</td>\n",
       "      <td>99.95</td>\n",
       "      <td>0.000000</td>\n",
       "      <td>0.000000</td>\n",
       "      <td>4.0</td>\n",
       "      <td>9.0</td>\n",
       "      <td>3.996094</td>\n",
       "      <td>True</td>\n",
       "      <td>REGULAR</td>\n",
       "      <td>USD</td>\n",
       "      <td>96.89</td>\n",
       "      <td>11.817657</td>\n",
       "      <td>96.89</td>\n",
       "    </tr>\n",
       "    <tr>\n",
       "      <th>1</th>\n",
       "      <td>AAPL221118C00055000</td>\n",
       "      <td>2022-11-03 18:17:55+00:00</td>\n",
       "      <td>55.0</td>\n",
       "      <td>84.45</td>\n",
       "      <td>94.25</td>\n",
       "      <td>94.90</td>\n",
       "      <td>0.000000</td>\n",
       "      <td>0.000000</td>\n",
       "      <td>80.0</td>\n",
       "      <td>0.0</td>\n",
       "      <td>3.554689</td>\n",
       "      <td>True</td>\n",
       "      <td>REGULAR</td>\n",
       "      <td>USD</td>\n",
       "      <td>91.89</td>\n",
       "      <td>8.809947</td>\n",
       "      <td>91.90</td>\n",
       "    </tr>\n",
       "    <tr>\n",
       "      <th>2</th>\n",
       "      <td>AAPL221118C00060000</td>\n",
       "      <td>2022-11-11 16:16:03+00:00</td>\n",
       "      <td>60.0</td>\n",
       "      <td>87.45</td>\n",
       "      <td>89.30</td>\n",
       "      <td>90.00</td>\n",
       "      <td>4.489998</td>\n",
       "      <td>5.412244</td>\n",
       "      <td>2.0</td>\n",
       "      <td>3.0</td>\n",
       "      <td>3.464845</td>\n",
       "      <td>True</td>\n",
       "      <td>REGULAR</td>\n",
       "      <td>USD</td>\n",
       "      <td>86.90</td>\n",
       "      <td>-0.628931</td>\n",
       "      <td>86.90</td>\n",
       "    </tr>\n",
       "    <tr>\n",
       "      <th>3</th>\n",
       "      <td>AAPL221118C00065000</td>\n",
       "      <td>2022-11-03 19:33:52+00:00</td>\n",
       "      <td>65.0</td>\n",
       "      <td>74.95</td>\n",
       "      <td>84.40</td>\n",
       "      <td>85.05</td>\n",
       "      <td>0.000000</td>\n",
       "      <td>0.000000</td>\n",
       "      <td>40.0</td>\n",
       "      <td>0.0</td>\n",
       "      <td>2.343754</td>\n",
       "      <td>True</td>\n",
       "      <td>REGULAR</td>\n",
       "      <td>USD</td>\n",
       "      <td>81.90</td>\n",
       "      <td>9.272849</td>\n",
       "      <td>81.91</td>\n",
       "    </tr>\n",
       "    <tr>\n",
       "      <th>4</th>\n",
       "      <td>AAPL221118C00070000</td>\n",
       "      <td>2022-11-09 15:00:53+00:00</td>\n",
       "      <td>70.0</td>\n",
       "      <td>67.50</td>\n",
       "      <td>79.30</td>\n",
       "      <td>79.90</td>\n",
       "      <td>0.000000</td>\n",
       "      <td>0.000000</td>\n",
       "      <td>3.0</td>\n",
       "      <td>3.0</td>\n",
       "      <td>2.753909</td>\n",
       "      <td>True</td>\n",
       "      <td>REGULAR</td>\n",
       "      <td>USD</td>\n",
       "      <td>76.90</td>\n",
       "      <td>13.925926</td>\n",
       "      <td>76.91</td>\n",
       "    </tr>\n",
       "    <tr>\n",
       "      <th>...</th>\n",
       "      <td>...</td>\n",
       "      <td>...</td>\n",
       "      <td>...</td>\n",
       "      <td>...</td>\n",
       "      <td>...</td>\n",
       "      <td>...</td>\n",
       "      <td>...</td>\n",
       "      <td>...</td>\n",
       "      <td>...</td>\n",
       "      <td>...</td>\n",
       "      <td>...</td>\n",
       "      <td>...</td>\n",
       "      <td>...</td>\n",
       "      <td>...</td>\n",
       "      <td>...</td>\n",
       "      <td>...</td>\n",
       "      <td>...</td>\n",
       "    </tr>\n",
       "    <tr>\n",
       "      <th>70</th>\n",
       "      <td>AAPL221118C00260000</td>\n",
       "      <td>2022-11-03 13:30:00+00:00</td>\n",
       "      <td>260.0</td>\n",
       "      <td>0.01</td>\n",
       "      <td>0.00</td>\n",
       "      <td>0.01</td>\n",
       "      <td>0.000000</td>\n",
       "      <td>0.000000</td>\n",
       "      <td>1.0</td>\n",
       "      <td>1391.0</td>\n",
       "      <td>1.312503</td>\n",
       "      <td>False</td>\n",
       "      <td>REGULAR</td>\n",
       "      <td>USD</td>\n",
       "      <td>0.00</td>\n",
       "      <td>-100.000000</td>\n",
       "      <td>0.00</td>\n",
       "    </tr>\n",
       "    <tr>\n",
       "      <th>71</th>\n",
       "      <td>AAPL221118C00270000</td>\n",
       "      <td>2022-11-03 19:45:17+00:00</td>\n",
       "      <td>270.0</td>\n",
       "      <td>0.01</td>\n",
       "      <td>0.00</td>\n",
       "      <td>0.01</td>\n",
       "      <td>0.000000</td>\n",
       "      <td>0.000000</td>\n",
       "      <td>1.0</td>\n",
       "      <td>2624.0</td>\n",
       "      <td>1.406253</td>\n",
       "      <td>False</td>\n",
       "      <td>REGULAR</td>\n",
       "      <td>USD</td>\n",
       "      <td>0.00</td>\n",
       "      <td>-100.000000</td>\n",
       "      <td>0.00</td>\n",
       "    </tr>\n",
       "    <tr>\n",
       "      <th>72</th>\n",
       "      <td>AAPL221118C00280000</td>\n",
       "      <td>2022-11-08 15:22:05+00:00</td>\n",
       "      <td>280.0</td>\n",
       "      <td>0.01</td>\n",
       "      <td>0.00</td>\n",
       "      <td>0.01</td>\n",
       "      <td>0.000000</td>\n",
       "      <td>0.000000</td>\n",
       "      <td>1.0</td>\n",
       "      <td>1983.0</td>\n",
       "      <td>1.500002</td>\n",
       "      <td>False</td>\n",
       "      <td>REGULAR</td>\n",
       "      <td>USD</td>\n",
       "      <td>0.00</td>\n",
       "      <td>-100.000000</td>\n",
       "      <td>0.00</td>\n",
       "    </tr>\n",
       "    <tr>\n",
       "      <th>73</th>\n",
       "      <td>AAPL221118C00290000</td>\n",
       "      <td>2022-11-08 18:19:30+00:00</td>\n",
       "      <td>290.0</td>\n",
       "      <td>0.01</td>\n",
       "      <td>0.00</td>\n",
       "      <td>0.01</td>\n",
       "      <td>0.000000</td>\n",
       "      <td>0.000000</td>\n",
       "      <td>2.0</td>\n",
       "      <td>880.0</td>\n",
       "      <td>1.562502</td>\n",
       "      <td>False</td>\n",
       "      <td>REGULAR</td>\n",
       "      <td>USD</td>\n",
       "      <td>0.00</td>\n",
       "      <td>-100.000000</td>\n",
       "      <td>0.00</td>\n",
       "    </tr>\n",
       "    <tr>\n",
       "      <th>74</th>\n",
       "      <td>AAPL221118C00300000</td>\n",
       "      <td>2022-11-11 20:45:37+00:00</td>\n",
       "      <td>300.0</td>\n",
       "      <td>0.01</td>\n",
       "      <td>0.00</td>\n",
       "      <td>0.01</td>\n",
       "      <td>0.000000</td>\n",
       "      <td>0.000000</td>\n",
       "      <td>2.0</td>\n",
       "      <td>10889.0</td>\n",
       "      <td>1.625002</td>\n",
       "      <td>False</td>\n",
       "      <td>REGULAR</td>\n",
       "      <td>USD</td>\n",
       "      <td>0.00</td>\n",
       "      <td>-100.000000</td>\n",
       "      <td>0.00</td>\n",
       "    </tr>\n",
       "  </tbody>\n",
       "</table>\n",
       "<p>75 rows × 17 columns</p>\n",
       "</div>"
      ],
      "text/plain": [
       "         contractSymbol             lastTradeDate  strike  lastPrice    bid  \\\n",
       "0   AAPL221118C00050000 2022-11-04 18:43:38+00:00    50.0      86.65  99.30   \n",
       "1   AAPL221118C00055000 2022-11-03 18:17:55+00:00    55.0      84.45  94.25   \n",
       "2   AAPL221118C00060000 2022-11-11 16:16:03+00:00    60.0      87.45  89.30   \n",
       "3   AAPL221118C00065000 2022-11-03 19:33:52+00:00    65.0      74.95  84.40   \n",
       "4   AAPL221118C00070000 2022-11-09 15:00:53+00:00    70.0      67.50  79.30   \n",
       "..                  ...                       ...     ...        ...    ...   \n",
       "70  AAPL221118C00260000 2022-11-03 13:30:00+00:00   260.0       0.01   0.00   \n",
       "71  AAPL221118C00270000 2022-11-03 19:45:17+00:00   270.0       0.01   0.00   \n",
       "72  AAPL221118C00280000 2022-11-08 15:22:05+00:00   280.0       0.01   0.00   \n",
       "73  AAPL221118C00290000 2022-11-08 18:19:30+00:00   290.0       0.01   0.00   \n",
       "74  AAPL221118C00300000 2022-11-11 20:45:37+00:00   300.0       0.01   0.00   \n",
       "\n",
       "      ask    change  percentChange  volume  openInterest  impliedVolatility  \\\n",
       "0   99.95  0.000000       0.000000     4.0           9.0           3.996094   \n",
       "1   94.90  0.000000       0.000000    80.0           0.0           3.554689   \n",
       "2   90.00  4.489998       5.412244     2.0           3.0           3.464845   \n",
       "3   85.05  0.000000       0.000000    40.0           0.0           2.343754   \n",
       "4   79.90  0.000000       0.000000     3.0           3.0           2.753909   \n",
       "..    ...       ...            ...     ...           ...                ...   \n",
       "70   0.01  0.000000       0.000000     1.0        1391.0           1.312503   \n",
       "71   0.01  0.000000       0.000000     1.0        2624.0           1.406253   \n",
       "72   0.01  0.000000       0.000000     1.0        1983.0           1.500002   \n",
       "73   0.01  0.000000       0.000000     2.0         880.0           1.562502   \n",
       "74   0.01  0.000000       0.000000     2.0       10889.0           1.625002   \n",
       "\n",
       "    inTheMoney contractSize currency  BSMPrice  estimate_error  MB_BSMPrice  \n",
       "0         True      REGULAR      USD     96.89       11.817657        96.89  \n",
       "1         True      REGULAR      USD     91.89        8.809947        91.90  \n",
       "2         True      REGULAR      USD     86.90       -0.628931        86.90  \n",
       "3         True      REGULAR      USD     81.90        9.272849        81.91  \n",
       "4         True      REGULAR      USD     76.90       13.925926        76.91  \n",
       "..         ...          ...      ...       ...             ...          ...  \n",
       "70       False      REGULAR      USD      0.00     -100.000000         0.00  \n",
       "71       False      REGULAR      USD      0.00     -100.000000         0.00  \n",
       "72       False      REGULAR      USD      0.00     -100.000000         0.00  \n",
       "73       False      REGULAR      USD      0.00     -100.000000         0.00  \n",
       "74       False      REGULAR      USD      0.00     -100.000000         0.00  \n",
       "\n",
       "[75 rows x 17 columns]"
      ]
     },
     "execution_count": 26,
     "metadata": {},
     "output_type": "execute_result"
    }
   ],
   "source": [
    "opt.calls['MB_BSMPrice'] = pd.DataFrame(AAPL_mb_bsm_call).round(2)\n",
    "opt.calls"
   ]
  },
  {
   "cell_type": "code",
   "execution_count": 27,
   "metadata": {},
   "outputs": [
    {
     "data": {
      "text/plain": [
       "0      11.817657\n",
       "1       8.821788\n",
       "2      -0.628931\n",
       "3       9.286191\n",
       "4      13.940741\n",
       "         ...    \n",
       "70   -100.000000\n",
       "71   -100.000000\n",
       "72   -100.000000\n",
       "73   -100.000000\n",
       "74   -100.000000\n",
       "Name: estimate_error_mb, Length: 75, dtype: float64"
      ]
     },
     "execution_count": 27,
     "metadata": {},
     "output_type": "execute_result"
    }
   ],
   "source": [
    "opt.calls['estimate_error_mb'] = ((opt.calls['MB_BSMPrice'] - opt.calls['lastPrice'] )/opt.calls['lastPrice'] )*100\n",
    "opt.calls['estimate_error_mb']"
   ]
  },
  {
   "cell_type": "code",
   "execution_count": 28,
   "metadata": {},
   "outputs": [
    {
     "data": {
      "text/plain": [
       "count     75.000000\n",
       "mean     -42.372360\n",
       "std       43.671597\n",
       "min     -100.000000\n",
       "25%     -100.000000\n",
       "50%      -26.388889\n",
       "75%      -11.247026\n",
       "max       64.516129\n",
       "Name: estimate_error_mb, dtype: float64"
      ]
     },
     "execution_count": 28,
     "metadata": {},
     "output_type": "execute_result"
    }
   ],
   "source": [
    "opt.calls['estimate_error_mb'].replace([np.inf, -np.inf], np.nan).dropna(axis=0).describe()"
   ]
  },
  {
   "cell_type": "code",
   "execution_count": 29,
   "metadata": {},
   "outputs": [
    {
     "data": {
      "text/plain": [
       "Text(0.5, 1.0, 'Histogram of Estimate Error')"
      ]
     },
     "execution_count": 29,
     "metadata": {},
     "output_type": "execute_result"
    },
    {
     "data": {
      "image/png": "[encoded data removed]",
      "text/plain": [
       "<Figure size 432x288 with 1 Axes>"
      ]
     },
     "metadata": {
      "needs_background": "light"
     },
     "output_type": "display_data"
    }
   ],
   "source": [
    "n, bins, patches = plt.hist(x=opt.calls['estimate_error_mb'].replace([np.inf, -np.inf], np.nan).dropna(axis=0), bins='auto', color='#0504aa',alpha=0.7, rwidth=0.85)\n",
    "\n",
    "plt.grid(axis='y', alpha=0.75)\n",
    "plt.xlabel('Estimate Error by MibianLib')\n",
    "plt.ylabel('Frequency')\n",
    "plt.title('Histogram of Estimate Error')"
   ]
  },
  {
   "cell_type": "markdown",
   "metadata": {},
   "source": [
    "Although the mean and median estimation of error have increased, the standard deviation has decreased. Overall, the results is consistent."
   ]
  }
 ],
 "metadata": {
  "kernelspec": {
   "display_name": "Python 3 (ipykernel)",
   "language": "python",
   "name": "python3"
  },
  "language_info": {
   "codemirror_mode": {
    "name": "ipython",
    "version": 3
   },
   "file_extension": ".py",
   "mimetype": "text/x-python",
   "name": "python",
   "nbconvert_exporter": "python",
   "pygments_lexer": "ipython3",
   "version": "3.9.7"
  }
 },
 "nbformat": 4,
 "nbformat_minor": 4
}
